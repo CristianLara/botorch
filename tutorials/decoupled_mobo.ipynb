{
 "cells": [
  {
   "cell_type": "markdown",
   "metadata": {
    "originalKey": "61330204-a407-449f-af77-fcd868546651",
    "outputsInitialized": false,
    "showInput": false
   },
   "source": [
    "## Multi-Objective BO with Decoupled Evaluations using HVKG\n",
    "In this tutorial, we illustrate how to use the hypervolume knowledge gradient for problems where the objectives can be evaluated independently (decoupled). \n",
    "\n",
    "There are two types of decoupling:\n",
    "\n",
    "* **Competitive decoupling**: where the objectives are evaluated using the same evaluation resource. Often the objectives have heterogenous costs and therefore it is prudent to select what design and objective to evaluate in a cost-aware fashion.\n",
    "\n",
    "* **Non-competitive decoupling**: where the objectives have independent evaluation resources and potentially different numbers of designs can be evaluated in parallel. In this scenario, all available evaluation resources should be exploited and the goal is to optimize the objectives as well as possible within a fixed number of time steps.\n",
    "\n",
    "In this tutorial, we focus on competitive decoupling and show how HVKG can be used for efficient optimization.\n",
    "\n",
    "[1] [S. Daulton, M. Balandat, and E. Bakshy. Hypervolume Knowledge Gradient: A Lookahead Approach for Multi-Objective Bayesian Optimization with Partial Information. ICML, 2023.](https://proceedings.mlr.press/v202/daulton23a.html)\n",
    "\n",
    "Note: `pymoo` is an optional dependency that is used for determining the Pareto set of optimal designs under the model posterior mean using NSGA-II (which is not a sample efficient method, but sample efficiency is not critical for this step). If `pymoo` is not available, the Pareto set of optimal designs is selected from a discrete set. This will work okay for low-dim (e.g. $\\leq2$ dimensions) problems, but in general NSGA-II will yield far better results."
   ]
  },
  {
   "cell_type": "markdown",
   "metadata": {
    "originalKey": "f01416cb-e83e-4263-b599-b2a3221d144d",
    "outputsInitialized": false,
    "showInput": false
   },
   "source": [
    "### Set dtype and device\n",
    "Note: HVKG aggressively exploits parallel hardware and is much faster when run on a GPU."
   ]
  },
  {
   "cell_type": "code",
   "execution_count": 1,
   "metadata": {
    "collapsed": false,
    "customOutput": null,
    "executionStartTime": 1699627780155,
    "executionStopTime": 1699627787200,
    "jupyter": {
     "outputs_hidden": false
    },
    "originalKey": "fc7f5adf-9bff-4fe5-8c24-5faad8b7ad01",
    "output": {
     "id": "804505111685014"
    },
    "outputsInitialized": false,
    "requestMsgId": "a61c88db-2b5e-4aa7-935f-ac82c1bbc845"
   },
   "outputs": [],
   "source": [
    "import os\n",
    "\n",
    "import torch\n",
    "\n",
    "\n",
    "tkwargs = {\n",
    "    \"dtype\": torch.double,\n",
    "    \"device\": torch.device(\"cuda\" if torch.cuda.is_available() else \"cpu\"),\n",
    "}\n",
    "SMOKE_TEST = os.environ.get(\"SMOKE_TEST\")"
   ]
  },
  {
   "cell_type": "markdown",
   "metadata": {
    "originalKey": "8d895a93-397c-4d2c-b6f5-96f589312538",
    "outputsInitialized": false,
    "showInput": false
   },
   "source": [
    "### Problem setup\n",
    "\n",
    "In this tutorial, we optimize a bi-objective synthetic function ZDT2 over a 6-dimensional space. The costs of evaluating each objective are 3 and 1, respectively, which we choose to be different to reflect that many multi-objective optimization problems have heterogeneous costs."
   ]
  },
  {
   "cell_type": "code",
   "execution_count": 2,
   "metadata": {
    "collapsed": false,
    "customOutput": null,
    "executionStartTime": 1699627787229,
    "executionStopTime": 1699627791232,
    "jupyter": {
     "outputs_hidden": false
    },
    "originalKey": "32104fee-5b27-41b3-9007-5a55d04235d3",
    "outputsInitialized": false,
    "requestMsgId": "a5b45d06-0f88-4371-bde5-bff6aaff5aab"
   },
   "outputs": [],
   "source": [
    "from botorch.test_functions.multi_objective import ZDT2\n",
    "from botorch.models.cost import FixedCostModel\n",
    "\n",
    "\n",
    "problem = ZDT2(negate=True, dim=6).to(**tkwargs)\n",
    "bounds = problem.bounds\n",
    "\n",
    "# define the cost model\n",
    "objective_costs = {0: 3.0, 1: 1.0}\n",
    "objective_indices = list(objective_costs.keys())\n",
    "objective_costs = {int(k): v for k, v in objective_costs.items()}\n",
    "objective_costs_t = torch.tensor(\n",
    "    [objective_costs[k] for k in sorted(objective_costs.keys())], **tkwargs\n",
    ")\n",
    "cost_model = FixedCostModel(fixed_cost=objective_costs_t)"
   ]
  },
  {
   "cell_type": "markdown",
   "metadata": {
    "originalKey": "fc047039-c2a9-4ea8-920e-c057547cfb11",
    "outputsInitialized": false,
    "showInput": false
   },
   "source": [
    "#### Model initialization\n",
    "\n",
    "We use a list of `SingleTaskGP`s to model the two objectives with known noise variances. The models are initialized with $2(d+1)=14$ points drawn randomly from $[0,1]^2$. Since the objectives can be evaluated independently, the number of observations of each objective can be different. Therefore, we must use a `ModelListGP`."
   ]
  },
  {
   "cell_type": "code",
   "execution_count": 3,
   "metadata": {
    "collapsed": false,
    "customOutput": null,
    "executionStartTime": 1699627791256,
    "executionStopTime": 1699627791262,
    "jupyter": {
     "outputs_hidden": false
    },
    "originalKey": "3ecef619-db90-4676-8c8d-99bbf915a0fa",
    "outputsInitialized": false,
    "requestMsgId": "d9e8e1fe-509f-4b25-8cf1-bcf16ebb380f"
   },
   "outputs": [],
   "source": [
    "from botorch.models.gp_regression import SingleTaskGP\n",
    "from botorch.models.model_list_gp_regression import ModelListGP\n",
    "from botorch.models.transforms.input import Normalize\n",
    "from botorch.models.transforms.outcome import Standardize\n",
    "from botorch.utils.sampling import draw_sobol_samples\n",
    "from gpytorch.mlls.sum_marginal_log_likelihood import SumMarginalLogLikelihood\n",
    "from gpytorch.priors import GammaPrior\n",
    "from gpytorch.kernels import MaternKernel, ScaleKernel\n",
    "from torch import Tensor\n",
    "\n",
    "\n",
    "def generate_initial_data(n):\n",
    "    # generate training data\n",
    "    train_x = draw_sobol_samples(bounds=bounds, n=n, q=1).squeeze(1)\n",
    "    train_obj_true = problem(train_x)\n",
    "    return train_x, train_obj_true\n",
    "\n",
    "\n",
    "def initialize_model(train_x_list, train_obj_list):\n",
    "    # define models for objective and constraint\n",
    "    models = []\n",
    "    for i in range(len(train_obj_list)):\n",
    "        train_y = train_obj_list[i]\n",
    "        train_yvar = torch.full_like(train_y, 1e-7)  # noiseless\n",
    "        models.append(\n",
    "            SingleTaskGP(\n",
    "                train_X=train_x_list[i],\n",
    "                train_Y=train_y,\n",
    "                train_Yvar=train_yvar,\n",
    "                input_transform=Normalize(d=train_x_list[i].shape[-1], bounds=bounds),\n",
    "                outcome_transform=Standardize(m=1),\n",
    "            )\n",
    "        )\n",
    "    model = ModelListGP(*models)\n",
    "    mll = SumMarginalLogLikelihood(model.likelihood, model)\n",
    "    return mll, model"
   ]
  },
  {
   "cell_type": "markdown",
   "metadata": {
    "originalKey": "6bfaef9a-3f34-4d51-9700-fbddc79eccf1",
    "outputsInitialized": false,
    "showInput": false
   },
   "source": [
    "#### Define a helper functions that performs the essential BO step for $q$LogNEHVI and HVKG\n",
    "The helper function below initializes the $q$LogNEHVI acquisition function (a strong baseline, but one that does not support decoupled evaluations), optimizes it, and returns the candidate along with the observed function values. \n",
    "\n",
    "**Reference Point**\n",
    "\n",
    "$q$LogNEHVI and HVKG require specifying a reference point, which is the lower bound on the objectives used for computing hypervolume. In this tutorial, we assume the reference point is known. In practice the reference point can be set 1) using domain knowledge to be slightly worse than the lower bound of objective values, where the lower bound is the minimum acceptable value of interest for each objective, or 2) using a dynamic reference point selection strategy."
   ]
  },
  {
   "cell_type": "code",
   "execution_count": 4,
   "metadata": {
    "collapsed": false,
    "customOutput": null,
    "executionStartTime": 1699627791276,
    "executionStopTime": 1699627791277,
    "jupyter": {
     "outputs_hidden": false
    },
    "originalKey": "758fad16-635b-4e2c-a5ae-5fa6d43ae569",
    "outputsInitialized": false,
    "requestMsgId": "4305049b-e57a-4c3b-85cb-7d83bc1e3b42"
   },
   "outputs": [],
   "source": [
    "from botorch.acquisition.multi_objective.logei import (\n",
    "    qLogNoisyExpectedHypervolumeImprovement,\n",
    ")\n",
    "from botorch.optim.optimize import optimize_acqf\n",
    "\n",
    "\n",
    "BATCH_SIZE = 1\n",
    "NUM_RESTARTS = 10 if not SMOKE_TEST else 2\n",
    "RAW_SAMPLES = 512 if not SMOKE_TEST else 4\n",
    "\n",
    "\n",
    "def optimize_qlognehvi_and_get_observation(model, train_x, sampler):\n",
    "    \"\"\"Optimizes the qLogNEHVI acquisition function, and returns a new candidate and observation.\"\"\"\n",
    "    # partition non-dominated space into disjoint rectangles\n",
    "    acq_func = qLogNoisyExpectedHypervolumeImprovement(\n",
    "        model=model,\n",
    "        ref_point=problem.ref_point.tolist(),  # use known reference point\n",
    "        X_baseline=train_x,\n",
    "        prune_baseline=True,  # prune baseline points that have estimated zero probability of being Pareto optimal\n",
    "        sampler=sampler,\n",
    "    )\n",
    "    # optimize\n",
    "    candidates, _ = optimize_acqf(\n",
    "        acq_function=acq_func,\n",
    "        bounds=bounds,\n",
    "        q=BATCH_SIZE,\n",
    "        num_restarts=NUM_RESTARTS,\n",
    "        raw_samples=RAW_SAMPLES,  # used for intialization heuristic\n",
    "        options={\"batch_limit\": 5, \"maxiter\": 200},\n",
    "        sequential=True,\n",
    "    )\n",
    "    # observe new values\n",
    "    new_x = candidates.detach()\n",
    "    new_obj_true = problem(new_x)\n",
    "    return new_x, new_obj_true"
   ]
  },
  {
   "attachments": {},
   "cell_type": "markdown",
   "metadata": {
    "collapsed": false,
    "customInput": null,
    "customOutput": null,
    "executionStartTime": 1692892083921,
    "executionStopTime": 1692892083976,
    "jupyter": {
     "outputs_hidden": false
    },
    "originalKey": "e4fb82e5-bdc8-44e4-846c-a3ecf7620a8a",
    "outputsInitialized": false,
    "requestMsgId": "e4fb82e5-bdc8-44e4-846c-a3ecf7620a8a",
    "showInput": false
   },
   "source": [
    "### Helper Function for initializing and optimizing HVKG\n",
    "\n",
    "Below we define the following helper functions:\n",
    "1. `get_current_value` for computing the current hypervolume of the hypervolume maximizing set under the posterior mean.\n",
    "2. `optimize_HVKG_and_get_obs_decoupled` to initialize and optimize HVKG to determine which design to evaluate and which objective to evaluate the design on. This method obtains the observation corresponding to that design."
   ]
  },
  {
   "cell_type": "code",
   "execution_count": 5,
   "metadata": {
    "collapsed": false,
    "customInput": null,
    "customOutput": null,
    "executionStartTime": 1699627791283,
    "executionStopTime": 1699627791294,
    "jupyter": {
     "outputs_hidden": false
    },
    "originalKey": "0f8cbe2d-1901-4f06-b10a-8ecb7cd9d71a",
    "outputsInitialized": false,
    "requestMsgId": "5d9f944b-8c7f-4585-bac5-4d7212b915ff",
    "showInput": true
   },
   "outputs": [],
   "source": [
    "from botorch.acquisition.cost_aware import InverseCostWeightedUtility\n",
    "from botorch.acquisition.multi_objective.hypervolume_knowledge_gradient import (\n",
    "    _get_hv_value_function,\n",
    "    qHypervolumeKnowledgeGradient,\n",
    ")\n",
    "from botorch.models.deterministic import GenericDeterministicModel\n",
    "from botorch.sampling.list_sampler import ListSampler\n",
    "from botorch.sampling.normal import IIDNormalSampler\n",
    "\n",
    "NUM_PARETO = 2 if SMOKE_TEST else 10\n",
    "NUM_FANTASIES = 2 if SMOKE_TEST else 8\n",
    "NUM_HVKG_RESTARTS = 1\n",
    "\n",
    "\n",
    "def get_current_value(\n",
    "    model,\n",
    "    ref_point,\n",
    "    bounds,\n",
    "):\n",
    "    \"\"\"Helper to get the hypervolume of the current hypervolume\n",
    "    maximizing set.\n",
    "    \"\"\"\n",
    "    curr_val_acqf = _get_hv_value_function(\n",
    "        model=model,\n",
    "        ref_point=ref_point,\n",
    "        use_posterior_mean=True,\n",
    "    )\n",
    "    _, current_value = optimize_acqf(\n",
    "        acq_function=curr_val_acqf,\n",
    "        bounds=bounds,\n",
    "        q=NUM_PARETO,\n",
    "        num_restarts=20,\n",
    "        raw_samples=1024,\n",
    "        return_best_only=True,\n",
    "        options={\"batch_limit\": 5},\n",
    "    )\n",
    "    return current_value\n",
    "\n",
    "\n",
    "def optimize_HVKG_and_get_obs_decoupled(model):\n",
    "    \"\"\"Utility to initialize and optimize HVKG.\"\"\"\n",
    "    cost_aware_utility = InverseCostWeightedUtility(cost_model=cost_model)\n",
    "\n",
    "    current_value = get_current_value(\n",
    "        model=model,\n",
    "        ref_point=problem.ref_point,\n",
    "        bounds=bounds,\n",
    "    )\n",
    "\n",
    "    acq_func = qHypervolumeKnowledgeGradient(\n",
    "        model=model,\n",
    "        ref_point=problem.ref_point,  # use known reference point\n",
    "        num_fantasies=NUM_FANTASIES,\n",
    "        num_pareto=NUM_PARETO,\n",
    "        current_value=current_value,\n",
    "        cost_aware_utility=cost_aware_utility,\n",
    "    )\n",
    "\n",
    "    # optimize acquisition functions and get new observations\n",
    "    objective_vals = []\n",
    "    objective_candidates = []\n",
    "    for objective_idx in objective_indices:\n",
    "        # set evaluation index to only condition on one objective\n",
    "        # this could be multiple objectives\n",
    "        X_evaluation_mask = torch.zeros(\n",
    "            1,\n",
    "            len(objective_indices),\n",
    "            dtype=torch.bool,\n",
    "            device=bounds.device,\n",
    "        )\n",
    "        X_evaluation_mask[0, objective_idx] = 1\n",
    "        acq_func.X_evaluation_mask = X_evaluation_mask\n",
    "        candidates, vals = optimize_acqf(\n",
    "            acq_function=acq_func,\n",
    "            num_restarts=NUM_HVKG_RESTARTS,\n",
    "            raw_samples=RAW_SAMPLES,\n",
    "            bounds=bounds,\n",
    "            q=BATCH_SIZE,\n",
    "            sequential=False,\n",
    "            options={\"batch_limit\": 5},\n",
    "        )\n",
    "        objective_vals.append(vals.view(-1))\n",
    "        objective_candidates.append(candidates)\n",
    "    best_objective_index = torch.cat(objective_vals, dim=-1).argmax().item()\n",
    "    eval_objective_indices = [best_objective_index]\n",
    "    candidates = objective_candidates[best_objective_index]\n",
    "    vals = objective_vals[best_objective_index]\n",
    "    # observe new values\n",
    "    new_x = candidates.detach()\n",
    "    new_obj = problem(new_x)\n",
    "    new_obj = new_obj[..., eval_objective_indices]\n",
    "    return new_x, new_obj, eval_objective_indices"
   ]
  },
  {
   "cell_type": "markdown",
   "metadata": {
    "customInput": null,
    "originalKey": "678281c4-f8a1-420e-b4be-6a4ee682a2e8",
    "outputsInitialized": false,
    "showInput": false
   },
   "source": [
    "## Define function to find model-estimated Pareto set of designs under posterior mean using NSGA-II\n"
   ]
  },
  {
   "cell_type": "code",
   "execution_count": 6,
   "metadata": {
    "collapsed": false,
    "customInput": null,
    "executionStartTime": 1699627791311,
    "executionStopTime": 1699627791486,
    "jupyter": {
     "outputs_hidden": false
    },
    "originalKey": "6f682eec-e4f4-4c3f-935a-46dfd3e7801e",
    "outputsInitialized": false,
    "requestMsgId": "a086a9e6-4eb3-4f5b-9e08-a5f868fa47e1",
    "showInput": true
   },
   "outputs": [],
   "source": [
    "import numpy as np\n",
    "from botorch.utils.multi_objective.box_decompositions.non_dominated import (\n",
    "    FastNondominatedPartitioning,\n",
    ")\n",
    "from botorch.utils.multi_objective.pareto import _is_non_dominated_loop\n",
    "from botorch.utils.transforms import unnormalize\n",
    "from gpytorch import settings\n",
    "\n",
    "try:\n",
    "    from pymoo.algorithms.nsga2 import NSGA2\n",
    "    from pymoo.model.problem import Problem\n",
    "    from pymoo.optimize import minimize\n",
    "    from pymoo.util.termination.max_gen import MaximumGenerationTermination\n",
    "\n",
    "    def get_model_identified_hv_maximizing_set(\n",
    "        model,\n",
    "        population_size=250,\n",
    "        max_gen=100,\n",
    "    ):\n",
    "        \"\"\"Optimize the posterior mean using NSGA-II.\"\"\"\n",
    "        tkwargs = {\n",
    "            \"dtype\": problem.ref_point.dtype,\n",
    "            \"device\": problem.ref_point.device,\n",
    "        }\n",
    "        dim = problem.dim\n",
    "\n",
    "        class PosteriorMeanPymooProblem(Problem):\n",
    "            def __init__(self):\n",
    "                super().__init__(\n",
    "                    n_var=dim,\n",
    "                    n_obj=problem.num_objectives,\n",
    "                    type_var=np.double,\n",
    "                )\n",
    "                self.xl = bounds[0].numpy()\n",
    "                self.xu = bounds[1].numpy()\n",
    "\n",
    "            def _evaluate(self, x, out, *args, **kwargs):\n",
    "                X = torch.from_numpy(x).to(**tkwargs)\n",
    "                is_fantasy_model = (\n",
    "                    isinstance(model, ModelListGP)\n",
    "                    and model.models[0].train_targets.ndim > 2\n",
    "                ) or (\n",
    "                    not isinstance(model, ModelListGP) and model.train_targets.ndim > 2\n",
    "                )\n",
    "                with torch.no_grad():\n",
    "                    with settings.cholesky_max_tries(9):\n",
    "                        # eval in batch mode\n",
    "                        y = model.posterior(X.unsqueeze(-2)).mean.squeeze(-2)\n",
    "                    if is_fantasy_model:\n",
    "                        y = y.mean(dim=-2)\n",
    "                out[\"F\"] = -y.cpu().numpy()\n",
    "\n",
    "        pymoo_problem = PosteriorMeanPymooProblem()\n",
    "        algorithm = NSGA2(\n",
    "            pop_size=population_size,\n",
    "            eliminate_duplicates=True,\n",
    "        )\n",
    "        res = minimize(\n",
    "            pymoo_problem,\n",
    "            algorithm,\n",
    "            termination=MaximumGenerationTermination(max_gen),\n",
    "            # seed=0,  # fix seed\n",
    "            verbose=False,\n",
    "        )\n",
    "        X = torch.tensor(res.X, **tkwargs)\n",
    "        Y = problem(X)\n",
    "        # compute HV\n",
    "        partitioning = FastNondominatedPartitioning(ref_point=problem.ref_point, Y=Y)\n",
    "        return partitioning.compute_hypervolume().item()\n",
    "\n",
    "except ImportError:\n",
    "    NUM_DISCRETE_POINTS = 100 if SMOKE_TEST else 100000\n",
    "    CHUNK_SIZE = 512\n",
    "\n",
    "    def get_model_identified_hv_maximizing_set(\n",
    "        model,\n",
    "    ):\n",
    "        \"\"\"Optimize the posterior mean over a discrete set.\"\"\"\n",
    "        tkwargs = {\n",
    "            \"dtype\": problem.ref_point.dtype,\n",
    "            \"device\": problem.ref_point.device,\n",
    "        }\n",
    "        dim = problem.dim\n",
    "\n",
    "        discrete_set = unnormalize(X=torch.rand(NUM_DISCRETE_POINTS, dim, **tkwargs), bounds=bounds)\n",
    "        with torch.no_grad():\n",
    "            preds_list = []\n",
    "            for start in range(0, NUM_DISCRETE_POINTS, CHUNK_SIZE):\n",
    "                preds = model.posterior(\n",
    "                    discrete_set[start : start + CHUNK_SIZE].unsqueeze(-2)\n",
    "                ).mean.squeeze(-2)\n",
    "                preds_list.append(preds)\n",
    "            preds = torch.cat(preds_list, dim=0)\n",
    "            pareto_mask = _is_non_dominated_loop(preds)\n",
    "            pareto_X = discrete_set[pareto_mask]\n",
    "        Y = problem(pareto_X)\n",
    "        # compute HV\n",
    "        partitioning = FastNondominatedPartitioning(ref_point=problem.ref_point, Y=Y)\n",
    "        return partitioning.compute_hypervolume().item()"
   ]
  },
  {
   "cell_type": "markdown",
   "metadata": {
    "originalKey": "f8ffd86a-f4bb-4984-9330-04ff4d62f189",
    "outputsInitialized": false,
    "showInput": false
   },
   "source": [
    "### Perform Bayesian Optimization loop with Decoupled HVKG and compared against non-decoupled $q$LogNEHVI\n",
    "The Bayesian optimization \"loop\" for a batch size of 1 simply iterates the following steps:\n",
    "1. given a surrogate model, choose a candidate design *and* objective to evaluate (for methods that leverage decoupled evaluations).\n",
    "2. observe one or more objectives for the candidate design.\n",
    "3. update the surrogate model.\n",
    "\n",
    "The loop will continue to run until a pre-specified evaluation budget (in terms of cost) is exhausted."
   ]
  },
  {
   "cell_type": "code",
   "execution_count": 7,
   "metadata": {
    "collapsed": false,
    "customOutput": null,
    "executionStartTime": 1699627791496,
    "executionStopTime": 1699629252322,
    "jupyter": {
     "outputs_hidden": false
    },
    "originalKey": "3189ba56-cc8c-4c78-95ab-9bb702f11ecb",
    "output": {
     "id": "913932473488501"
    },
    "outputsInitialized": true,
    "requestMsgId": "2a400c57-e37a-4a7b-9758-81570d204538"
   },
   "outputs": [
    {
     "name": "stdout",
     "output_type": "stream",
     "text": [
      "\n",
      "Initial: Hypervolume (random, qHVKG, qLogNEHVI) = (108.23, 108.23, 108.23)."
     ]
    },
    {
     "name": "stderr",
     "output_type": "stream",
     "text": [
      "/Users/saitcakmak/botorch/botorch/acquisition/multi_objective/monte_carlo.py:203: NumericsWarning: qExpectedHypervolumeImprovement has known numerical issues that lead to suboptimal optimization performance. It is strongly recommended to simply replace\n",
      "\n",
      "\t qExpectedHypervolumeImprovement \t --> \t qLogExpectedHypervolumeImprovement \n",
      "\n",
      "instead, which fixes the issues and has the same API. See https://arxiv.org/abs/2310.20708 for details.\n",
      "  legacy_ei_numerics_warning(legacy_name=type(self).__name__)\n",
      "/Users/saitcakmak/botorch/botorch/acquisition/multi_objective/monte_carlo.py:203: NumericsWarning: qExpectedHypervolumeImprovement has known numerical issues that lead to suboptimal optimization performance. It is strongly recommended to simply replace\n",
      "\n",
      "\t qExpectedHypervolumeImprovement \t --> \t qLogExpectedHypervolumeImprovement \n",
      "\n",
      "instead, which fixes the issues and has the same API. See https://arxiv.org/abs/2310.20708 for details.\n",
      "  legacy_ei_numerics_warning(legacy_name=type(self).__name__)\n",
      "/Users/saitcakmak/botorch/botorch/acquisition/multi_objective/monte_carlo.py:203: NumericsWarning: qExpectedHypervolumeImprovement has known numerical issues that lead to suboptimal optimization performance. It is strongly recommended to simply replace\n",
      "\n",
      "\t qExpectedHypervolumeImprovement \t --> \t qLogExpectedHypervolumeImprovement \n",
      "\n",
      "instead, which fixes the issues and has the same API. See https://arxiv.org/abs/2310.20708 for details.\n",
      "  legacy_ei_numerics_warning(legacy_name=type(self).__name__)\n"
     ]
    },
    {
     "name": "stdout",
     "output_type": "stream",
     "text": [
      "\n",
      "Batch  0: Costs (random, qHVKG, qLogNEHVI) = (56.00, 53.00, 56.00). \n",
      "\n",
      "Hypervolume (random, qHVKG, qLogNEHVI) = (109.12, 109.13, 106.46), time = 18.01."
     ]
    },
    {
     "name": "stderr",
     "output_type": "stream",
     "text": [
      "/Users/saitcakmak/botorch/botorch/acquisition/multi_objective/monte_carlo.py:203: NumericsWarning: qExpectedHypervolumeImprovement has known numerical issues that lead to suboptimal optimization performance. It is strongly recommended to simply replace\n",
      "\n",
      "\t qExpectedHypervolumeImprovement \t --> \t qLogExpectedHypervolumeImprovement \n",
      "\n",
      "instead, which fixes the issues and has the same API. See https://arxiv.org/abs/2310.20708 for details.\n",
      "  legacy_ei_numerics_warning(legacy_name=type(self).__name__)\n",
      "/Users/saitcakmak/botorch/botorch/acquisition/multi_objective/monte_carlo.py:203: NumericsWarning: qExpectedHypervolumeImprovement has known numerical issues that lead to suboptimal optimization performance. It is strongly recommended to simply replace\n",
      "\n",
      "\t qExpectedHypervolumeImprovement \t --> \t qLogExpectedHypervolumeImprovement \n",
      "\n",
      "instead, which fixes the issues and has the same API. See https://arxiv.org/abs/2310.20708 for details.\n",
      "  legacy_ei_numerics_warning(legacy_name=type(self).__name__)\n",
      "/Users/saitcakmak/botorch/botorch/acquisition/multi_objective/monte_carlo.py:203: NumericsWarning: qExpectedHypervolumeImprovement has known numerical issues that lead to suboptimal optimization performance. It is strongly recommended to simply replace\n",
      "\n",
      "\t qExpectedHypervolumeImprovement \t --> \t qLogExpectedHypervolumeImprovement \n",
      "\n",
      "instead, which fixes the issues and has the same API. See https://arxiv.org/abs/2310.20708 for details.\n",
      "  legacy_ei_numerics_warning(legacy_name=type(self).__name__)\n"
     ]
    },
    {
     "name": "stdout",
     "output_type": "stream",
     "text": [
      "\n",
      "Batch  1: Costs (random, qHVKG, qLogNEHVI) = (60.00, 54.00, 60.00). \n",
      "\n",
      "Hypervolume (random, qHVKG, qLogNEHVI) = (108.55, 107.20, 108.75), time = 15.34."
     ]
    },
    {
     "name": "stderr",
     "output_type": "stream",
     "text": [
      "/Users/saitcakmak/botorch/botorch/acquisition/multi_objective/monte_carlo.py:203: NumericsWarning: qExpectedHypervolumeImprovement has known numerical issues that lead to suboptimal optimization performance. It is strongly recommended to simply replace\n",
      "\n",
      "\t qExpectedHypervolumeImprovement \t --> \t qLogExpectedHypervolumeImprovement \n",
      "\n",
      "instead, which fixes the issues and has the same API. See https://arxiv.org/abs/2310.20708 for details.\n",
      "  legacy_ei_numerics_warning(legacy_name=type(self).__name__)\n",
      "/Users/saitcakmak/botorch/botorch/acquisition/multi_objective/monte_carlo.py:203: NumericsWarning: qExpectedHypervolumeImprovement has known numerical issues that lead to suboptimal optimization performance. It is strongly recommended to simply replace\n",
      "\n",
      "\t qExpectedHypervolumeImprovement \t --> \t qLogExpectedHypervolumeImprovement \n",
      "\n",
      "instead, which fixes the issues and has the same API. See https://arxiv.org/abs/2310.20708 for details.\n",
      "  legacy_ei_numerics_warning(legacy_name=type(self).__name__)\n",
      "/Users/saitcakmak/botorch/botorch/acquisition/multi_objective/monte_carlo.py:203: NumericsWarning: qExpectedHypervolumeImprovement has known numerical issues that lead to suboptimal optimization performance. It is strongly recommended to simply replace\n",
      "\n",
      "\t qExpectedHypervolumeImprovement \t --> \t qLogExpectedHypervolumeImprovement \n",
      "\n",
      "instead, which fixes the issues and has the same API. See https://arxiv.org/abs/2310.20708 for details.\n",
      "  legacy_ei_numerics_warning(legacy_name=type(self).__name__)\n"
     ]
    },
    {
     "name": "stdout",
     "output_type": "stream",
     "text": [
      "\n",
      "Batch  2: Costs (random, qHVKG, qLogNEHVI) = (64.00, 55.00, 64.00). \n",
      "\n",
      "Hypervolume (random, qHVKG, qLogNEHVI) = (107.94, 108.55, 108.30), time = 8.74."
     ]
    },
    {
     "name": "stderr",
     "output_type": "stream",
     "text": [
      "/Users/saitcakmak/botorch/botorch/acquisition/multi_objective/monte_carlo.py:203: NumericsWarning: qExpectedHypervolumeImprovement has known numerical issues that lead to suboptimal optimization performance. It is strongly recommended to simply replace\n",
      "\n",
      "\t qExpectedHypervolumeImprovement \t --> \t qLogExpectedHypervolumeImprovement \n",
      "\n",
      "instead, which fixes the issues and has the same API. See https://arxiv.org/abs/2310.20708 for details.\n",
      "  legacy_ei_numerics_warning(legacy_name=type(self).__name__)\n",
      "/Users/saitcakmak/botorch/botorch/acquisition/multi_objective/monte_carlo.py:203: NumericsWarning: qExpectedHypervolumeImprovement has known numerical issues that lead to suboptimal optimization performance. It is strongly recommended to simply replace\n",
      "\n",
      "\t qExpectedHypervolumeImprovement \t --> \t qLogExpectedHypervolumeImprovement \n",
      "\n",
      "instead, which fixes the issues and has the same API. See https://arxiv.org/abs/2310.20708 for details.\n",
      "  legacy_ei_numerics_warning(legacy_name=type(self).__name__)\n",
      "/Users/saitcakmak/botorch/botorch/acquisition/multi_objective/monte_carlo.py:203: NumericsWarning: qExpectedHypervolumeImprovement has known numerical issues that lead to suboptimal optimization performance. It is strongly recommended to simply replace\n",
      "\n",
      "\t qExpectedHypervolumeImprovement \t --> \t qLogExpectedHypervolumeImprovement \n",
      "\n",
      "instead, which fixes the issues and has the same API. See https://arxiv.org/abs/2310.20708 for details.\n",
      "  legacy_ei_numerics_warning(legacy_name=type(self).__name__)\n"
     ]
    },
    {
     "name": "stdout",
     "output_type": "stream",
     "text": [
      "\n",
      "Batch  3: Costs (random, qHVKG, qLogNEHVI) = (68.00, 58.00, 68.00). \n",
      "\n",
      "Hypervolume (random, qHVKG, qLogNEHVI) = (113.86, 111.37, 112.73), time = 11.21."
     ]
    },
    {
     "name": "stderr",
     "output_type": "stream",
     "text": [
      "/Users/saitcakmak/botorch/botorch/acquisition/multi_objective/monte_carlo.py:203: NumericsWarning: qExpectedHypervolumeImprovement has known numerical issues that lead to suboptimal optimization performance. It is strongly recommended to simply replace\n",
      "\n",
      "\t qExpectedHypervolumeImprovement \t --> \t qLogExpectedHypervolumeImprovement \n",
      "\n",
      "instead, which fixes the issues and has the same API. See https://arxiv.org/abs/2310.20708 for details.\n",
      "  legacy_ei_numerics_warning(legacy_name=type(self).__name__)\n",
      "/Users/saitcakmak/botorch/botorch/acquisition/multi_objective/monte_carlo.py:203: NumericsWarning: qExpectedHypervolumeImprovement has known numerical issues that lead to suboptimal optimization performance. It is strongly recommended to simply replace\n",
      "\n",
      "\t qExpectedHypervolumeImprovement \t --> \t qLogExpectedHypervolumeImprovement \n",
      "\n",
      "instead, which fixes the issues and has the same API. See https://arxiv.org/abs/2310.20708 for details.\n",
      "  legacy_ei_numerics_warning(legacy_name=type(self).__name__)\n",
      "/Users/saitcakmak/botorch/botorch/acquisition/multi_objective/monte_carlo.py:203: NumericsWarning: qExpectedHypervolumeImprovement has known numerical issues that lead to suboptimal optimization performance. It is strongly recommended to simply replace\n",
      "\n",
      "\t qExpectedHypervolumeImprovement \t --> \t qLogExpectedHypervolumeImprovement \n",
      "\n",
      "instead, which fixes the issues and has the same API. See https://arxiv.org/abs/2310.20708 for details.\n",
      "  legacy_ei_numerics_warning(legacy_name=type(self).__name__)\n"
     ]
    },
    {
     "name": "stdout",
     "output_type": "stream",
     "text": [
      "\n",
      "Batch  4: Costs (random, qHVKG, qLogNEHVI) = (72.00, 59.00, 72.00). \n",
      "\n",
      "Hypervolume (random, qHVKG, qLogNEHVI) = (113.07, 109.43, 109.42), time = 10.24."
     ]
    },
    {
     "name": "stderr",
     "output_type": "stream",
     "text": [
      "/Users/saitcakmak/botorch/botorch/acquisition/multi_objective/monte_carlo.py:203: NumericsWarning: qExpectedHypervolumeImprovement has known numerical issues that lead to suboptimal optimization performance. It is strongly recommended to simply replace\n",
      "\n",
      "\t qExpectedHypervolumeImprovement \t --> \t qLogExpectedHypervolumeImprovement \n",
      "\n",
      "instead, which fixes the issues and has the same API. See https://arxiv.org/abs/2310.20708 for details.\n",
      "  legacy_ei_numerics_warning(legacy_name=type(self).__name__)\n",
      "/Users/saitcakmak/botorch/botorch/acquisition/multi_objective/monte_carlo.py:203: NumericsWarning: qExpectedHypervolumeImprovement has known numerical issues that lead to suboptimal optimization performance. It is strongly recommended to simply replace\n",
      "\n",
      "\t qExpectedHypervolumeImprovement \t --> \t qLogExpectedHypervolumeImprovement \n",
      "\n",
      "instead, which fixes the issues and has the same API. See https://arxiv.org/abs/2310.20708 for details.\n",
      "  legacy_ei_numerics_warning(legacy_name=type(self).__name__)\n",
      "/Users/saitcakmak/botorch/botorch/acquisition/multi_objective/monte_carlo.py:203: NumericsWarning: qExpectedHypervolumeImprovement has known numerical issues that lead to suboptimal optimization performance. It is strongly recommended to simply replace\n",
      "\n",
      "\t qExpectedHypervolumeImprovement \t --> \t qLogExpectedHypervolumeImprovement \n",
      "\n",
      "instead, which fixes the issues and has the same API. See https://arxiv.org/abs/2310.20708 for details.\n",
      "  legacy_ei_numerics_warning(legacy_name=type(self).__name__)\n"
     ]
    },
    {
     "name": "stdout",
     "output_type": "stream",
     "text": [
      "\n",
      "Batch  5: Costs (random, qHVKG, qLogNEHVI) = (76.00, 60.00, 76.00). \n",
      "\n",
      "Hypervolume (random, qHVKG, qLogNEHVI) = (112.64, 109.21, 107.80), time = 11.31."
     ]
    },
    {
     "name": "stderr",
     "output_type": "stream",
     "text": [
      "/Users/saitcakmak/botorch/botorch/acquisition/multi_objective/monte_carlo.py:203: NumericsWarning: qExpectedHypervolumeImprovement has known numerical issues that lead to suboptimal optimization performance. It is strongly recommended to simply replace\n",
      "\n",
      "\t qExpectedHypervolumeImprovement \t --> \t qLogExpectedHypervolumeImprovement \n",
      "\n",
      "instead, which fixes the issues and has the same API. See https://arxiv.org/abs/2310.20708 for details.\n",
      "  legacy_ei_numerics_warning(legacy_name=type(self).__name__)\n",
      "/Users/saitcakmak/botorch/botorch/acquisition/multi_objective/monte_carlo.py:203: NumericsWarning: qExpectedHypervolumeImprovement has known numerical issues that lead to suboptimal optimization performance. It is strongly recommended to simply replace\n",
      "\n",
      "\t qExpectedHypervolumeImprovement \t --> \t qLogExpectedHypervolumeImprovement \n",
      "\n",
      "instead, which fixes the issues and has the same API. See https://arxiv.org/abs/2310.20708 for details.\n",
      "  legacy_ei_numerics_warning(legacy_name=type(self).__name__)\n",
      "/Users/saitcakmak/botorch/botorch/acquisition/multi_objective/monte_carlo.py:203: NumericsWarning: qExpectedHypervolumeImprovement has known numerical issues that lead to suboptimal optimization performance. It is strongly recommended to simply replace\n",
      "\n",
      "\t qExpectedHypervolumeImprovement \t --> \t qLogExpectedHypervolumeImprovement \n",
      "\n",
      "instead, which fixes the issues and has the same API. See https://arxiv.org/abs/2310.20708 for details.\n",
      "  legacy_ei_numerics_warning(legacy_name=type(self).__name__)\n"
     ]
    },
    {
     "name": "stdout",
     "output_type": "stream",
     "text": [
      "\n",
      "Batch  6: Costs (random, qHVKG, qLogNEHVI) = (80.00, 61.00, 80.00). \n",
      "\n",
      "Hypervolume (random, qHVKG, qLogNEHVI) = (107.88, 107.87, 109.74), time = 8.33."
     ]
    },
    {
     "name": "stderr",
     "output_type": "stream",
     "text": [
      "/Users/saitcakmak/botorch/botorch/acquisition/multi_objective/monte_carlo.py:203: NumericsWarning: qExpectedHypervolumeImprovement has known numerical issues that lead to suboptimal optimization performance. It is strongly recommended to simply replace\n",
      "\n",
      "\t qExpectedHypervolumeImprovement \t --> \t qLogExpectedHypervolumeImprovement \n",
      "\n",
      "instead, which fixes the issues and has the same API. See https://arxiv.org/abs/2310.20708 for details.\n",
      "  legacy_ei_numerics_warning(legacy_name=type(self).__name__)\n",
      "/Users/saitcakmak/botorch/botorch/acquisition/multi_objective/monte_carlo.py:203: NumericsWarning: qExpectedHypervolumeImprovement has known numerical issues that lead to suboptimal optimization performance. It is strongly recommended to simply replace\n",
      "\n",
      "\t qExpectedHypervolumeImprovement \t --> \t qLogExpectedHypervolumeImprovement \n",
      "\n",
      "instead, which fixes the issues and has the same API. See https://arxiv.org/abs/2310.20708 for details.\n",
      "  legacy_ei_numerics_warning(legacy_name=type(self).__name__)\n",
      "/Users/saitcakmak/botorch/botorch/acquisition/multi_objective/monte_carlo.py:203: NumericsWarning: qExpectedHypervolumeImprovement has known numerical issues that lead to suboptimal optimization performance. It is strongly recommended to simply replace\n",
      "\n",
      "\t qExpectedHypervolumeImprovement \t --> \t qLogExpectedHypervolumeImprovement \n",
      "\n",
      "instead, which fixes the issues and has the same API. See https://arxiv.org/abs/2310.20708 for details.\n",
      "  legacy_ei_numerics_warning(legacy_name=type(self).__name__)\n"
     ]
    },
    {
     "name": "stdout",
     "output_type": "stream",
     "text": [
      "\n",
      "Batch  7: Costs (random, qHVKG, qLogNEHVI) = (84.00, 62.00, 84.00). \n",
      "\n",
      "Hypervolume (random, qHVKG, qLogNEHVI) = (111.15, 108.61, 107.25), time = 10.61."
     ]
    },
    {
     "name": "stderr",
     "output_type": "stream",
     "text": [
      "/Users/saitcakmak/botorch/botorch/acquisition/multi_objective/monte_carlo.py:203: NumericsWarning: qExpectedHypervolumeImprovement has known numerical issues that lead to suboptimal optimization performance. It is strongly recommended to simply replace\n",
      "\n",
      "\t qExpectedHypervolumeImprovement \t --> \t qLogExpectedHypervolumeImprovement \n",
      "\n",
      "instead, which fixes the issues and has the same API. See https://arxiv.org/abs/2310.20708 for details.\n",
      "  legacy_ei_numerics_warning(legacy_name=type(self).__name__)\n",
      "/Users/saitcakmak/botorch/botorch/acquisition/multi_objective/monte_carlo.py:203: NumericsWarning: qExpectedHypervolumeImprovement has known numerical issues that lead to suboptimal optimization performance. It is strongly recommended to simply replace\n",
      "\n",
      "\t qExpectedHypervolumeImprovement \t --> \t qLogExpectedHypervolumeImprovement \n",
      "\n",
      "instead, which fixes the issues and has the same API. See https://arxiv.org/abs/2310.20708 for details.\n",
      "  legacy_ei_numerics_warning(legacy_name=type(self).__name__)\n",
      "/Users/saitcakmak/botorch/botorch/acquisition/multi_objective/monte_carlo.py:203: NumericsWarning: qExpectedHypervolumeImprovement has known numerical issues that lead to suboptimal optimization performance. It is strongly recommended to simply replace\n",
      "\n",
      "\t qExpectedHypervolumeImprovement \t --> \t qLogExpectedHypervolumeImprovement \n",
      "\n",
      "instead, which fixes the issues and has the same API. See https://arxiv.org/abs/2310.20708 for details.\n",
      "  legacy_ei_numerics_warning(legacy_name=type(self).__name__)\n"
     ]
    },
    {
     "name": "stdout",
     "output_type": "stream",
     "text": [
      "\n",
      "Batch  8: Costs (random, qHVKG, qLogNEHVI) = (88.00, 63.00, 88.00). \n",
      "\n",
      "Hypervolume (random, qHVKG, qLogNEHVI) = (110.27, 114.44, 109.34), time = 8.78."
     ]
    },
    {
     "name": "stderr",
     "output_type": "stream",
     "text": [
      "/Users/saitcakmak/botorch/botorch/acquisition/multi_objective/monte_carlo.py:203: NumericsWarning: qExpectedHypervolumeImprovement has known numerical issues that lead to suboptimal optimization performance. It is strongly recommended to simply replace\n",
      "\n",
      "\t qExpectedHypervolumeImprovement \t --> \t qLogExpectedHypervolumeImprovement \n",
      "\n",
      "instead, which fixes the issues and has the same API. See https://arxiv.org/abs/2310.20708 for details.\n",
      "  legacy_ei_numerics_warning(legacy_name=type(self).__name__)\n",
      "/Users/saitcakmak/botorch/botorch/acquisition/multi_objective/monte_carlo.py:203: NumericsWarning: qExpectedHypervolumeImprovement has known numerical issues that lead to suboptimal optimization performance. It is strongly recommended to simply replace\n",
      "\n",
      "\t qExpectedHypervolumeImprovement \t --> \t qLogExpectedHypervolumeImprovement \n",
      "\n",
      "instead, which fixes the issues and has the same API. See https://arxiv.org/abs/2310.20708 for details.\n",
      "  legacy_ei_numerics_warning(legacy_name=type(self).__name__)\n",
      "/Users/saitcakmak/botorch/botorch/acquisition/multi_objective/monte_carlo.py:203: NumericsWarning: qExpectedHypervolumeImprovement has known numerical issues that lead to suboptimal optimization performance. It is strongly recommended to simply replace\n",
      "\n",
      "\t qExpectedHypervolumeImprovement \t --> \t qLogExpectedHypervolumeImprovement \n",
      "\n",
      "instead, which fixes the issues and has the same API. See https://arxiv.org/abs/2310.20708 for details.\n",
      "  legacy_ei_numerics_warning(legacy_name=type(self).__name__)\n"
     ]
    },
    {
     "name": "stdout",
     "output_type": "stream",
     "text": [
      "\n",
      "Batch  9: Costs (random, qHVKG, qLogNEHVI) = (92.00, 64.00, 92.00). \n",
      "\n",
      "Hypervolume (random, qHVKG, qLogNEHVI) = (109.50, 108.69, 110.33), time = 8.63."
     ]
    },
    {
     "name": "stderr",
     "output_type": "stream",
     "text": [
      "/Users/saitcakmak/botorch/botorch/acquisition/multi_objective/monte_carlo.py:203: NumericsWarning: qExpectedHypervolumeImprovement has known numerical issues that lead to suboptimal optimization performance. It is strongly recommended to simply replace\n",
      "\n",
      "\t qExpectedHypervolumeImprovement \t --> \t qLogExpectedHypervolumeImprovement \n",
      "\n",
      "instead, which fixes the issues and has the same API. See https://arxiv.org/abs/2310.20708 for details.\n",
      "  legacy_ei_numerics_warning(legacy_name=type(self).__name__)\n",
      "/Users/saitcakmak/botorch/botorch/acquisition/multi_objective/monte_carlo.py:203: NumericsWarning: qExpectedHypervolumeImprovement has known numerical issues that lead to suboptimal optimization performance. It is strongly recommended to simply replace\n",
      "\n",
      "\t qExpectedHypervolumeImprovement \t --> \t qLogExpectedHypervolumeImprovement \n",
      "\n",
      "instead, which fixes the issues and has the same API. See https://arxiv.org/abs/2310.20708 for details.\n",
      "  legacy_ei_numerics_warning(legacy_name=type(self).__name__)\n",
      "/Users/saitcakmak/botorch/botorch/acquisition/multi_objective/monte_carlo.py:203: NumericsWarning: qExpectedHypervolumeImprovement has known numerical issues that lead to suboptimal optimization performance. It is strongly recommended to simply replace\n",
      "\n",
      "\t qExpectedHypervolumeImprovement \t --> \t qLogExpectedHypervolumeImprovement \n",
      "\n",
      "instead, which fixes the issues and has the same API. See https://arxiv.org/abs/2310.20708 for details.\n",
      "  legacy_ei_numerics_warning(legacy_name=type(self).__name__)\n"
     ]
    },
    {
     "name": "stdout",
     "output_type": "stream",
     "text": [
      "\n",
      "Batch 10: Costs (random, qHVKG, qLogNEHVI) = (92.00, 65.00, 92.00). \n",
      "\n",
      "Hypervolume (random, qHVKG, qLogNEHVI) = (109.50, 107.84, 110.33), time = 6.49."
     ]
    },
    {
     "name": "stderr",
     "output_type": "stream",
     "text": [
      "/Users/saitcakmak/botorch/botorch/acquisition/multi_objective/monte_carlo.py:203: NumericsWarning: qExpectedHypervolumeImprovement has known numerical issues that lead to suboptimal optimization performance. It is strongly recommended to simply replace\n",
      "\n",
      "\t qExpectedHypervolumeImprovement \t --> \t qLogExpectedHypervolumeImprovement \n",
      "\n",
      "instead, which fixes the issues and has the same API. See https://arxiv.org/abs/2310.20708 for details.\n",
      "  legacy_ei_numerics_warning(legacy_name=type(self).__name__)\n",
      "/Users/saitcakmak/botorch/botorch/acquisition/multi_objective/monte_carlo.py:203: NumericsWarning: qExpectedHypervolumeImprovement has known numerical issues that lead to suboptimal optimization performance. It is strongly recommended to simply replace\n",
      "\n",
      "\t qExpectedHypervolumeImprovement \t --> \t qLogExpectedHypervolumeImprovement \n",
      "\n",
      "instead, which fixes the issues and has the same API. See https://arxiv.org/abs/2310.20708 for details.\n",
      "  legacy_ei_numerics_warning(legacy_name=type(self).__name__)\n",
      "/Users/saitcakmak/botorch/botorch/acquisition/multi_objective/monte_carlo.py:203: NumericsWarning: qExpectedHypervolumeImprovement has known numerical issues that lead to suboptimal optimization performance. It is strongly recommended to simply replace\n",
      "\n",
      "\t qExpectedHypervolumeImprovement \t --> \t qLogExpectedHypervolumeImprovement \n",
      "\n",
      "instead, which fixes the issues and has the same API. See https://arxiv.org/abs/2310.20708 for details.\n",
      "  legacy_ei_numerics_warning(legacy_name=type(self).__name__)\n"
     ]
    },
    {
     "name": "stdout",
     "output_type": "stream",
     "text": [
      "\n",
      "Batch 11: Costs (random, qHVKG, qLogNEHVI) = (92.00, 68.00, 92.00). \n",
      "\n",
      "Hypervolume (random, qHVKG, qLogNEHVI) = (109.50, 106.08, 110.33), time = 6.64."
     ]
    },
    {
     "name": "stderr",
     "output_type": "stream",
     "text": [
      "/Users/saitcakmak/botorch/botorch/acquisition/multi_objective/monte_carlo.py:203: NumericsWarning: qExpectedHypervolumeImprovement has known numerical issues that lead to suboptimal optimization performance. It is strongly recommended to simply replace\n",
      "\n",
      "\t qExpectedHypervolumeImprovement \t --> \t qLogExpectedHypervolumeImprovement \n",
      "\n",
      "instead, which fixes the issues and has the same API. See https://arxiv.org/abs/2310.20708 for details.\n",
      "  legacy_ei_numerics_warning(legacy_name=type(self).__name__)\n",
      "/Users/saitcakmak/botorch/botorch/acquisition/multi_objective/monte_carlo.py:203: NumericsWarning: qExpectedHypervolumeImprovement has known numerical issues that lead to suboptimal optimization performance. It is strongly recommended to simply replace\n",
      "\n",
      "\t qExpectedHypervolumeImprovement \t --> \t qLogExpectedHypervolumeImprovement \n",
      "\n",
      "instead, which fixes the issues and has the same API. See https://arxiv.org/abs/2310.20708 for details.\n",
      "  legacy_ei_numerics_warning(legacy_name=type(self).__name__)\n",
      "/Users/saitcakmak/botorch/botorch/acquisition/multi_objective/monte_carlo.py:203: NumericsWarning: qExpectedHypervolumeImprovement has known numerical issues that lead to suboptimal optimization performance. It is strongly recommended to simply replace\n",
      "\n",
      "\t qExpectedHypervolumeImprovement \t --> \t qLogExpectedHypervolumeImprovement \n",
      "\n",
      "instead, which fixes the issues and has the same API. See https://arxiv.org/abs/2310.20708 for details.\n",
      "  legacy_ei_numerics_warning(legacy_name=type(self).__name__)\n"
     ]
    },
    {
     "name": "stdout",
     "output_type": "stream",
     "text": [
      "\n",
      "Batch 12: Costs (random, qHVKG, qLogNEHVI) = (92.00, 69.00, 92.00). \n",
      "\n",
      "Hypervolume (random, qHVKG, qLogNEHVI) = (109.50, 106.65, 110.33), time = 5.73."
     ]
    },
    {
     "name": "stderr",
     "output_type": "stream",
     "text": [
      "/Users/saitcakmak/botorch/botorch/acquisition/multi_objective/monte_carlo.py:203: NumericsWarning: qExpectedHypervolumeImprovement has known numerical issues that lead to suboptimal optimization performance. It is strongly recommended to simply replace\n",
      "\n",
      "\t qExpectedHypervolumeImprovement \t --> \t qLogExpectedHypervolumeImprovement \n",
      "\n",
      "instead, which fixes the issues and has the same API. See https://arxiv.org/abs/2310.20708 for details.\n",
      "  legacy_ei_numerics_warning(legacy_name=type(self).__name__)\n",
      "/Users/saitcakmak/botorch/botorch/acquisition/multi_objective/monte_carlo.py:203: NumericsWarning: qExpectedHypervolumeImprovement has known numerical issues that lead to suboptimal optimization performance. It is strongly recommended to simply replace\n",
      "\n",
      "\t qExpectedHypervolumeImprovement \t --> \t qLogExpectedHypervolumeImprovement \n",
      "\n",
      "instead, which fixes the issues and has the same API. See https://arxiv.org/abs/2310.20708 for details.\n",
      "  legacy_ei_numerics_warning(legacy_name=type(self).__name__)\n",
      "/Users/saitcakmak/botorch/botorch/acquisition/multi_objective/monte_carlo.py:203: NumericsWarning: qExpectedHypervolumeImprovement has known numerical issues that lead to suboptimal optimization performance. It is strongly recommended to simply replace\n",
      "\n",
      "\t qExpectedHypervolumeImprovement \t --> \t qLogExpectedHypervolumeImprovement \n",
      "\n",
      "instead, which fixes the issues and has the same API. See https://arxiv.org/abs/2310.20708 for details.\n",
      "  legacy_ei_numerics_warning(legacy_name=type(self).__name__)\n"
     ]
    },
    {
     "name": "stdout",
     "output_type": "stream",
     "text": [
      "\n",
      "Batch 13: Costs (random, qHVKG, qLogNEHVI) = (92.00, 70.00, 92.00). \n",
      "\n",
      "Hypervolume (random, qHVKG, qLogNEHVI) = (109.50, 108.99, 110.33), time = 6.00."
     ]
    },
    {
     "name": "stderr",
     "output_type": "stream",
     "text": [
      "/Users/saitcakmak/botorch/botorch/acquisition/multi_objective/monte_carlo.py:203: NumericsWarning: qExpectedHypervolumeImprovement has known numerical issues that lead to suboptimal optimization performance. It is strongly recommended to simply replace\n",
      "\n",
      "\t qExpectedHypervolumeImprovement \t --> \t qLogExpectedHypervolumeImprovement \n",
      "\n",
      "instead, which fixes the issues and has the same API. See https://arxiv.org/abs/2310.20708 for details.\n",
      "  legacy_ei_numerics_warning(legacy_name=type(self).__name__)\n",
      "/Users/saitcakmak/botorch/botorch/acquisition/multi_objective/monte_carlo.py:203: NumericsWarning: qExpectedHypervolumeImprovement has known numerical issues that lead to suboptimal optimization performance. It is strongly recommended to simply replace\n",
      "\n",
      "\t qExpectedHypervolumeImprovement \t --> \t qLogExpectedHypervolumeImprovement \n",
      "\n",
      "instead, which fixes the issues and has the same API. See https://arxiv.org/abs/2310.20708 for details.\n",
      "  legacy_ei_numerics_warning(legacy_name=type(self).__name__)\n",
      "/Users/saitcakmak/botorch/botorch/acquisition/multi_objective/monte_carlo.py:203: NumericsWarning: qExpectedHypervolumeImprovement has known numerical issues that lead to suboptimal optimization performance. It is strongly recommended to simply replace\n",
      "\n",
      "\t qExpectedHypervolumeImprovement \t --> \t qLogExpectedHypervolumeImprovement \n",
      "\n",
      "instead, which fixes the issues and has the same API. See https://arxiv.org/abs/2310.20708 for details.\n",
      "  legacy_ei_numerics_warning(legacy_name=type(self).__name__)\n"
     ]
    },
    {
     "name": "stdout",
     "output_type": "stream",
     "text": [
      "\n",
      "Batch 14: Costs (random, qHVKG, qLogNEHVI) = (92.00, 71.00, 92.00). \n",
      "\n",
      "Hypervolume (random, qHVKG, qLogNEHVI) = (109.50, 112.21, 110.33), time = 6.47."
     ]
    },
    {
     "name": "stderr",
     "output_type": "stream",
     "text": [
      "/Users/saitcakmak/botorch/botorch/acquisition/multi_objective/monte_carlo.py:203: NumericsWarning: qExpectedHypervolumeImprovement has known numerical issues that lead to suboptimal optimization performance. It is strongly recommended to simply replace\n",
      "\n",
      "\t qExpectedHypervolumeImprovement \t --> \t qLogExpectedHypervolumeImprovement \n",
      "\n",
      "instead, which fixes the issues and has the same API. See https://arxiv.org/abs/2310.20708 for details.\n",
      "  legacy_ei_numerics_warning(legacy_name=type(self).__name__)\n",
      "/Users/saitcakmak/botorch/botorch/acquisition/multi_objective/monte_carlo.py:203: NumericsWarning: qExpectedHypervolumeImprovement has known numerical issues that lead to suboptimal optimization performance. It is strongly recommended to simply replace\n",
      "\n",
      "\t qExpectedHypervolumeImprovement \t --> \t qLogExpectedHypervolumeImprovement \n",
      "\n",
      "instead, which fixes the issues and has the same API. See https://arxiv.org/abs/2310.20708 for details.\n",
      "  legacy_ei_numerics_warning(legacy_name=type(self).__name__)\n",
      "/Users/saitcakmak/botorch/botorch/acquisition/multi_objective/monte_carlo.py:203: NumericsWarning: qExpectedHypervolumeImprovement has known numerical issues that lead to suboptimal optimization performance. It is strongly recommended to simply replace\n",
      "\n",
      "\t qExpectedHypervolumeImprovement \t --> \t qLogExpectedHypervolumeImprovement \n",
      "\n",
      "instead, which fixes the issues and has the same API. See https://arxiv.org/abs/2310.20708 for details.\n",
      "  legacy_ei_numerics_warning(legacy_name=type(self).__name__)\n"
     ]
    },
    {
     "name": "stdout",
     "output_type": "stream",
     "text": [
      "\n",
      "Batch 15: Costs (random, qHVKG, qLogNEHVI) = (92.00, 72.00, 92.00). \n",
      "\n",
      "Hypervolume (random, qHVKG, qLogNEHVI) = (109.50, 108.69, 110.33), time = 5.94."
     ]
    },
    {
     "name": "stderr",
     "output_type": "stream",
     "text": [
      "/Users/saitcakmak/botorch/botorch/acquisition/multi_objective/monte_carlo.py:203: NumericsWarning: qExpectedHypervolumeImprovement has known numerical issues that lead to suboptimal optimization performance. It is strongly recommended to simply replace\n",
      "\n",
      "\t qExpectedHypervolumeImprovement \t --> \t qLogExpectedHypervolumeImprovement \n",
      "\n",
      "instead, which fixes the issues and has the same API. See https://arxiv.org/abs/2310.20708 for details.\n",
      "  legacy_ei_numerics_warning(legacy_name=type(self).__name__)\n",
      "/Users/saitcakmak/botorch/botorch/acquisition/multi_objective/monte_carlo.py:203: NumericsWarning: qExpectedHypervolumeImprovement has known numerical issues that lead to suboptimal optimization performance. It is strongly recommended to simply replace\n",
      "\n",
      "\t qExpectedHypervolumeImprovement \t --> \t qLogExpectedHypervolumeImprovement \n",
      "\n",
      "instead, which fixes the issues and has the same API. See https://arxiv.org/abs/2310.20708 for details.\n",
      "  legacy_ei_numerics_warning(legacy_name=type(self).__name__)\n",
      "/Users/saitcakmak/botorch/botorch/acquisition/multi_objective/monte_carlo.py:203: NumericsWarning: qExpectedHypervolumeImprovement has known numerical issues that lead to suboptimal optimization performance. It is strongly recommended to simply replace\n",
      "\n",
      "\t qExpectedHypervolumeImprovement \t --> \t qLogExpectedHypervolumeImprovement \n",
      "\n",
      "instead, which fixes the issues and has the same API. See https://arxiv.org/abs/2310.20708 for details.\n",
      "  legacy_ei_numerics_warning(legacy_name=type(self).__name__)\n"
     ]
    },
    {
     "name": "stdout",
     "output_type": "stream",
     "text": [
      "\n",
      "Batch 16: Costs (random, qHVKG, qLogNEHVI) = (92.00, 73.00, 92.00). \n",
      "\n",
      "Hypervolume (random, qHVKG, qLogNEHVI) = (109.50, 107.49, 110.33), time = 5.95."
     ]
    },
    {
     "name": "stderr",
     "output_type": "stream",
     "text": [
      "/Users/saitcakmak/botorch/botorch/acquisition/multi_objective/monte_carlo.py:203: NumericsWarning: qExpectedHypervolumeImprovement has known numerical issues that lead to suboptimal optimization performance. It is strongly recommended to simply replace\n",
      "\n",
      "\t qExpectedHypervolumeImprovement \t --> \t qLogExpectedHypervolumeImprovement \n",
      "\n",
      "instead, which fixes the issues and has the same API. See https://arxiv.org/abs/2310.20708 for details.\n",
      "  legacy_ei_numerics_warning(legacy_name=type(self).__name__)\n",
      "/Users/saitcakmak/botorch/botorch/acquisition/multi_objective/monte_carlo.py:203: NumericsWarning: qExpectedHypervolumeImprovement has known numerical issues that lead to suboptimal optimization performance. It is strongly recommended to simply replace\n",
      "\n",
      "\t qExpectedHypervolumeImprovement \t --> \t qLogExpectedHypervolumeImprovement \n",
      "\n",
      "instead, which fixes the issues and has the same API. See https://arxiv.org/abs/2310.20708 for details.\n",
      "  legacy_ei_numerics_warning(legacy_name=type(self).__name__)\n",
      "/Users/saitcakmak/botorch/botorch/acquisition/multi_objective/monte_carlo.py:203: NumericsWarning: qExpectedHypervolumeImprovement has known numerical issues that lead to suboptimal optimization performance. It is strongly recommended to simply replace\n",
      "\n",
      "\t qExpectedHypervolumeImprovement \t --> \t qLogExpectedHypervolumeImprovement \n",
      "\n",
      "instead, which fixes the issues and has the same API. See https://arxiv.org/abs/2310.20708 for details.\n",
      "  legacy_ei_numerics_warning(legacy_name=type(self).__name__)\n"
     ]
    },
    {
     "name": "stdout",
     "output_type": "stream",
     "text": [
      "\n",
      "Batch 17: Costs (random, qHVKG, qLogNEHVI) = (92.00, 76.00, 92.00). \n",
      "\n",
      "Hypervolume (random, qHVKG, qLogNEHVI) = (109.50, 110.24, 110.33), time = 5.82."
     ]
    },
    {
     "name": "stderr",
     "output_type": "stream",
     "text": [
      "/Users/saitcakmak/botorch/botorch/acquisition/multi_objective/monte_carlo.py:203: NumericsWarning: qExpectedHypervolumeImprovement has known numerical issues that lead to suboptimal optimization performance. It is strongly recommended to simply replace\n",
      "\n",
      "\t qExpectedHypervolumeImprovement \t --> \t qLogExpectedHypervolumeImprovement \n",
      "\n",
      "instead, which fixes the issues and has the same API. See https://arxiv.org/abs/2310.20708 for details.\n",
      "  legacy_ei_numerics_warning(legacy_name=type(self).__name__)\n",
      "/Users/saitcakmak/botorch/botorch/acquisition/multi_objective/monte_carlo.py:203: NumericsWarning: qExpectedHypervolumeImprovement has known numerical issues that lead to suboptimal optimization performance. It is strongly recommended to simply replace\n",
      "\n",
      "\t qExpectedHypervolumeImprovement \t --> \t qLogExpectedHypervolumeImprovement \n",
      "\n",
      "instead, which fixes the issues and has the same API. See https://arxiv.org/abs/2310.20708 for details.\n",
      "  legacy_ei_numerics_warning(legacy_name=type(self).__name__)\n",
      "/Users/saitcakmak/botorch/botorch/acquisition/multi_objective/monte_carlo.py:203: NumericsWarning: qExpectedHypervolumeImprovement has known numerical issues that lead to suboptimal optimization performance. It is strongly recommended to simply replace\n",
      "\n",
      "\t qExpectedHypervolumeImprovement \t --> \t qLogExpectedHypervolumeImprovement \n",
      "\n",
      "instead, which fixes the issues and has the same API. See https://arxiv.org/abs/2310.20708 for details.\n",
      "  legacy_ei_numerics_warning(legacy_name=type(self).__name__)\n"
     ]
    },
    {
     "name": "stdout",
     "output_type": "stream",
     "text": [
      "\n",
      "Batch 18: Costs (random, qHVKG, qLogNEHVI) = (92.00, 77.00, 92.00). \n",
      "\n",
      "Hypervolume (random, qHVKG, qLogNEHVI) = (109.50, 105.19, 110.33), time = 6.08."
     ]
    },
    {
     "name": "stderr",
     "output_type": "stream",
     "text": [
      "/Users/saitcakmak/botorch/botorch/acquisition/multi_objective/monte_carlo.py:203: NumericsWarning: qExpectedHypervolumeImprovement has known numerical issues that lead to suboptimal optimization performance. It is strongly recommended to simply replace\n",
      "\n",
      "\t qExpectedHypervolumeImprovement \t --> \t qLogExpectedHypervolumeImprovement \n",
      "\n",
      "instead, which fixes the issues and has the same API. See https://arxiv.org/abs/2310.20708 for details.\n",
      "  legacy_ei_numerics_warning(legacy_name=type(self).__name__)\n",
      "/Users/saitcakmak/botorch/botorch/acquisition/multi_objective/monte_carlo.py:203: NumericsWarning: qExpectedHypervolumeImprovement has known numerical issues that lead to suboptimal optimization performance. It is strongly recommended to simply replace\n",
      "\n",
      "\t qExpectedHypervolumeImprovement \t --> \t qLogExpectedHypervolumeImprovement \n",
      "\n",
      "instead, which fixes the issues and has the same API. See https://arxiv.org/abs/2310.20708 for details.\n",
      "  legacy_ei_numerics_warning(legacy_name=type(self).__name__)\n",
      "/Users/saitcakmak/botorch/botorch/acquisition/multi_objective/monte_carlo.py:203: NumericsWarning: qExpectedHypervolumeImprovement has known numerical issues that lead to suboptimal optimization performance. It is strongly recommended to simply replace\n",
      "\n",
      "\t qExpectedHypervolumeImprovement \t --> \t qLogExpectedHypervolumeImprovement \n",
      "\n",
      "instead, which fixes the issues and has the same API. See https://arxiv.org/abs/2310.20708 for details.\n",
      "  legacy_ei_numerics_warning(legacy_name=type(self).__name__)\n"
     ]
    },
    {
     "name": "stdout",
     "output_type": "stream",
     "text": [
      "\n",
      "Batch 19: Costs (random, qHVKG, qLogNEHVI) = (92.00, 78.00, 92.00). \n",
      "\n",
      "Hypervolume (random, qHVKG, qLogNEHVI) = (109.50, 109.68, 110.33), time = 8.45."
     ]
    },
    {
     "name": "stderr",
     "output_type": "stream",
     "text": [
      "/Users/saitcakmak/botorch/botorch/acquisition/multi_objective/monte_carlo.py:203: NumericsWarning: qExpectedHypervolumeImprovement has known numerical issues that lead to suboptimal optimization performance. It is strongly recommended to simply replace\n",
      "\n",
      "\t qExpectedHypervolumeImprovement \t --> \t qLogExpectedHypervolumeImprovement \n",
      "\n",
      "instead, which fixes the issues and has the same API. See https://arxiv.org/abs/2310.20708 for details.\n",
      "  legacy_ei_numerics_warning(legacy_name=type(self).__name__)\n",
      "/Users/saitcakmak/botorch/botorch/acquisition/multi_objective/monte_carlo.py:203: NumericsWarning: qExpectedHypervolumeImprovement has known numerical issues that lead to suboptimal optimization performance. It is strongly recommended to simply replace\n",
      "\n",
      "\t qExpectedHypervolumeImprovement \t --> \t qLogExpectedHypervolumeImprovement \n",
      "\n",
      "instead, which fixes the issues and has the same API. See https://arxiv.org/abs/2310.20708 for details.\n",
      "  legacy_ei_numerics_warning(legacy_name=type(self).__name__)\n",
      "/Users/saitcakmak/botorch/botorch/acquisition/multi_objective/monte_carlo.py:203: NumericsWarning: qExpectedHypervolumeImprovement has known numerical issues that lead to suboptimal optimization performance. It is strongly recommended to simply replace\n",
      "\n",
      "\t qExpectedHypervolumeImprovement \t --> \t qLogExpectedHypervolumeImprovement \n",
      "\n",
      "instead, which fixes the issues and has the same API. See https://arxiv.org/abs/2310.20708 for details.\n",
      "  legacy_ei_numerics_warning(legacy_name=type(self).__name__)\n"
     ]
    },
    {
     "name": "stdout",
     "output_type": "stream",
     "text": [
      "\n",
      "Batch 20: Costs (random, qHVKG, qLogNEHVI) = (92.00, 79.00, 92.00). \n",
      "\n",
      "Hypervolume (random, qHVKG, qLogNEHVI) = (109.50, 109.03, 110.33), time = 6.38."
     ]
    },
    {
     "name": "stderr",
     "output_type": "stream",
     "text": [
      "/Users/saitcakmak/botorch/botorch/acquisition/multi_objective/monte_carlo.py:203: NumericsWarning: qExpectedHypervolumeImprovement has known numerical issues that lead to suboptimal optimization performance. It is strongly recommended to simply replace\n",
      "\n",
      "\t qExpectedHypervolumeImprovement \t --> \t qLogExpectedHypervolumeImprovement \n",
      "\n",
      "instead, which fixes the issues and has the same API. See https://arxiv.org/abs/2310.20708 for details.\n",
      "  legacy_ei_numerics_warning(legacy_name=type(self).__name__)\n",
      "/Users/saitcakmak/botorch/botorch/acquisition/multi_objective/monte_carlo.py:203: NumericsWarning: qExpectedHypervolumeImprovement has known numerical issues that lead to suboptimal optimization performance. It is strongly recommended to simply replace\n",
      "\n",
      "\t qExpectedHypervolumeImprovement \t --> \t qLogExpectedHypervolumeImprovement \n",
      "\n",
      "instead, which fixes the issues and has the same API. See https://arxiv.org/abs/2310.20708 for details.\n",
      "  legacy_ei_numerics_warning(legacy_name=type(self).__name__)\n",
      "/Users/saitcakmak/botorch/botorch/acquisition/multi_objective/monte_carlo.py:203: NumericsWarning: qExpectedHypervolumeImprovement has known numerical issues that lead to suboptimal optimization performance. It is strongly recommended to simply replace\n",
      "\n",
      "\t qExpectedHypervolumeImprovement \t --> \t qLogExpectedHypervolumeImprovement \n",
      "\n",
      "instead, which fixes the issues and has the same API. See https://arxiv.org/abs/2310.20708 for details.\n",
      "  legacy_ei_numerics_warning(legacy_name=type(self).__name__)\n"
     ]
    },
    {
     "name": "stdout",
     "output_type": "stream",
     "text": [
      "\n",
      "Batch 21: Costs (random, qHVKG, qLogNEHVI) = (92.00, 82.00, 92.00). \n",
      "\n",
      "Hypervolume (random, qHVKG, qLogNEHVI) = (109.50, 108.13, 110.33), time = 6.49."
     ]
    },
    {
     "name": "stderr",
     "output_type": "stream",
     "text": [
      "/Users/saitcakmak/botorch/botorch/acquisition/multi_objective/monte_carlo.py:203: NumericsWarning: qExpectedHypervolumeImprovement has known numerical issues that lead to suboptimal optimization performance. It is strongly recommended to simply replace\n",
      "\n",
      "\t qExpectedHypervolumeImprovement \t --> \t qLogExpectedHypervolumeImprovement \n",
      "\n",
      "instead, which fixes the issues and has the same API. See https://arxiv.org/abs/2310.20708 for details.\n",
      "  legacy_ei_numerics_warning(legacy_name=type(self).__name__)\n",
      "/Users/saitcakmak/botorch/botorch/acquisition/multi_objective/monte_carlo.py:203: NumericsWarning: qExpectedHypervolumeImprovement has known numerical issues that lead to suboptimal optimization performance. It is strongly recommended to simply replace\n",
      "\n",
      "\t qExpectedHypervolumeImprovement \t --> \t qLogExpectedHypervolumeImprovement \n",
      "\n",
      "instead, which fixes the issues and has the same API. See https://arxiv.org/abs/2310.20708 for details.\n",
      "  legacy_ei_numerics_warning(legacy_name=type(self).__name__)\n",
      "/Users/saitcakmak/botorch/botorch/acquisition/multi_objective/monte_carlo.py:203: NumericsWarning: qExpectedHypervolumeImprovement has known numerical issues that lead to suboptimal optimization performance. It is strongly recommended to simply replace\n",
      "\n",
      "\t qExpectedHypervolumeImprovement \t --> \t qLogExpectedHypervolumeImprovement \n",
      "\n",
      "instead, which fixes the issues and has the same API. See https://arxiv.org/abs/2310.20708 for details.\n",
      "  legacy_ei_numerics_warning(legacy_name=type(self).__name__)\n"
     ]
    },
    {
     "name": "stdout",
     "output_type": "stream",
     "text": [
      "\n",
      "Batch 22: Costs (random, qHVKG, qLogNEHVI) = (92.00, 83.00, 92.00). \n",
      "\n",
      "Hypervolume (random, qHVKG, qLogNEHVI) = (109.50, 112.53, 110.33), time = 7.68."
     ]
    },
    {
     "name": "stderr",
     "output_type": "stream",
     "text": [
      "/Users/saitcakmak/botorch/botorch/acquisition/multi_objective/monte_carlo.py:203: NumericsWarning: qExpectedHypervolumeImprovement has known numerical issues that lead to suboptimal optimization performance. It is strongly recommended to simply replace\n",
      "\n",
      "\t qExpectedHypervolumeImprovement \t --> \t qLogExpectedHypervolumeImprovement \n",
      "\n",
      "instead, which fixes the issues and has the same API. See https://arxiv.org/abs/2310.20708 for details.\n",
      "  legacy_ei_numerics_warning(legacy_name=type(self).__name__)\n",
      "/Users/saitcakmak/botorch/botorch/acquisition/multi_objective/monte_carlo.py:203: NumericsWarning: qExpectedHypervolumeImprovement has known numerical issues that lead to suboptimal optimization performance. It is strongly recommended to simply replace\n",
      "\n",
      "\t qExpectedHypervolumeImprovement \t --> \t qLogExpectedHypervolumeImprovement \n",
      "\n",
      "instead, which fixes the issues and has the same API. See https://arxiv.org/abs/2310.20708 for details.\n",
      "  legacy_ei_numerics_warning(legacy_name=type(self).__name__)\n",
      "/Users/saitcakmak/botorch/botorch/acquisition/multi_objective/monte_carlo.py:203: NumericsWarning: qExpectedHypervolumeImprovement has known numerical issues that lead to suboptimal optimization performance. It is strongly recommended to simply replace\n",
      "\n",
      "\t qExpectedHypervolumeImprovement \t --> \t qLogExpectedHypervolumeImprovement \n",
      "\n",
      "instead, which fixes the issues and has the same API. See https://arxiv.org/abs/2310.20708 for details.\n",
      "  legacy_ei_numerics_warning(legacy_name=type(self).__name__)\n"
     ]
    },
    {
     "name": "stdout",
     "output_type": "stream",
     "text": [
      "\n",
      "Batch 23: Costs (random, qHVKG, qLogNEHVI) = (92.00, 84.00, 92.00). \n",
      "\n",
      "Hypervolume (random, qHVKG, qLogNEHVI) = (109.50, 109.33, 110.33), time = 7.02."
     ]
    },
    {
     "name": "stderr",
     "output_type": "stream",
     "text": [
      "/Users/saitcakmak/botorch/botorch/acquisition/multi_objective/monte_carlo.py:203: NumericsWarning: qExpectedHypervolumeImprovement has known numerical issues that lead to suboptimal optimization performance. It is strongly recommended to simply replace\n",
      "\n",
      "\t qExpectedHypervolumeImprovement \t --> \t qLogExpectedHypervolumeImprovement \n",
      "\n",
      "instead, which fixes the issues and has the same API. See https://arxiv.org/abs/2310.20708 for details.\n",
      "  legacy_ei_numerics_warning(legacy_name=type(self).__name__)\n",
      "/Users/saitcakmak/botorch/botorch/acquisition/multi_objective/monte_carlo.py:203: NumericsWarning: qExpectedHypervolumeImprovement has known numerical issues that lead to suboptimal optimization performance. It is strongly recommended to simply replace\n",
      "\n",
      "\t qExpectedHypervolumeImprovement \t --> \t qLogExpectedHypervolumeImprovement \n",
      "\n",
      "instead, which fixes the issues and has the same API. See https://arxiv.org/abs/2310.20708 for details.\n",
      "  legacy_ei_numerics_warning(legacy_name=type(self).__name__)\n",
      "/Users/saitcakmak/botorch/botorch/acquisition/multi_objective/monte_carlo.py:203: NumericsWarning: qExpectedHypervolumeImprovement has known numerical issues that lead to suboptimal optimization performance. It is strongly recommended to simply replace\n",
      "\n",
      "\t qExpectedHypervolumeImprovement \t --> \t qLogExpectedHypervolumeImprovement \n",
      "\n",
      "instead, which fixes the issues and has the same API. See https://arxiv.org/abs/2310.20708 for details.\n",
      "  legacy_ei_numerics_warning(legacy_name=type(self).__name__)\n"
     ]
    },
    {
     "name": "stdout",
     "output_type": "stream",
     "text": [
      "\n",
      "Batch 24: Costs (random, qHVKG, qLogNEHVI) = (92.00, 85.00, 92.00). \n",
      "\n",
      "Hypervolume (random, qHVKG, qLogNEHVI) = (109.50, 108.94, 110.33), time = 7.10."
     ]
    },
    {
     "name": "stderr",
     "output_type": "stream",
     "text": [
      "/Users/saitcakmak/botorch/botorch/acquisition/multi_objective/monte_carlo.py:203: NumericsWarning: qExpectedHypervolumeImprovement has known numerical issues that lead to suboptimal optimization performance. It is strongly recommended to simply replace\n",
      "\n",
      "\t qExpectedHypervolumeImprovement \t --> \t qLogExpectedHypervolumeImprovement \n",
      "\n",
      "instead, which fixes the issues and has the same API. See https://arxiv.org/abs/2310.20708 for details.\n",
      "  legacy_ei_numerics_warning(legacy_name=type(self).__name__)\n",
      "/Users/saitcakmak/botorch/botorch/acquisition/multi_objective/monte_carlo.py:203: NumericsWarning: qExpectedHypervolumeImprovement has known numerical issues that lead to suboptimal optimization performance. It is strongly recommended to simply replace\n",
      "\n",
      "\t qExpectedHypervolumeImprovement \t --> \t qLogExpectedHypervolumeImprovement \n",
      "\n",
      "instead, which fixes the issues and has the same API. See https://arxiv.org/abs/2310.20708 for details.\n",
      "  legacy_ei_numerics_warning(legacy_name=type(self).__name__)\n",
      "/Users/saitcakmak/botorch/botorch/acquisition/multi_objective/monte_carlo.py:203: NumericsWarning: qExpectedHypervolumeImprovement has known numerical issues that lead to suboptimal optimization performance. It is strongly recommended to simply replace\n",
      "\n",
      "\t qExpectedHypervolumeImprovement \t --> \t qLogExpectedHypervolumeImprovement \n",
      "\n",
      "instead, which fixes the issues and has the same API. See https://arxiv.org/abs/2310.20708 for details.\n",
      "  legacy_ei_numerics_warning(legacy_name=type(self).__name__)\n"
     ]
    },
    {
     "name": "stdout",
     "output_type": "stream",
     "text": [
      "\n",
      "Batch 25: Costs (random, qHVKG, qLogNEHVI) = (92.00, 86.00, 92.00). \n",
      "\n",
      "Hypervolume (random, qHVKG, qLogNEHVI) = (109.50, 112.65, 110.33), time = 6.50."
     ]
    },
    {
     "name": "stderr",
     "output_type": "stream",
     "text": [
      "/Users/saitcakmak/botorch/botorch/acquisition/multi_objective/monte_carlo.py:203: NumericsWarning: qExpectedHypervolumeImprovement has known numerical issues that lead to suboptimal optimization performance. It is strongly recommended to simply replace\n",
      "\n",
      "\t qExpectedHypervolumeImprovement \t --> \t qLogExpectedHypervolumeImprovement \n",
      "\n",
      "instead, which fixes the issues and has the same API. See https://arxiv.org/abs/2310.20708 for details.\n",
      "  legacy_ei_numerics_warning(legacy_name=type(self).__name__)\n",
      "/Users/saitcakmak/botorch/botorch/acquisition/multi_objective/monte_carlo.py:203: NumericsWarning: qExpectedHypervolumeImprovement has known numerical issues that lead to suboptimal optimization performance. It is strongly recommended to simply replace\n",
      "\n",
      "\t qExpectedHypervolumeImprovement \t --> \t qLogExpectedHypervolumeImprovement \n",
      "\n",
      "instead, which fixes the issues and has the same API. See https://arxiv.org/abs/2310.20708 for details.\n",
      "  legacy_ei_numerics_warning(legacy_name=type(self).__name__)\n",
      "/Users/saitcakmak/botorch/botorch/acquisition/multi_objective/monte_carlo.py:203: NumericsWarning: qExpectedHypervolumeImprovement has known numerical issues that lead to suboptimal optimization performance. It is strongly recommended to simply replace\n",
      "\n",
      "\t qExpectedHypervolumeImprovement \t --> \t qLogExpectedHypervolumeImprovement \n",
      "\n",
      "instead, which fixes the issues and has the same API. See https://arxiv.org/abs/2310.20708 for details.\n",
      "  legacy_ei_numerics_warning(legacy_name=type(self).__name__)\n"
     ]
    },
    {
     "name": "stdout",
     "output_type": "stream",
     "text": [
      "\n",
      "Batch 26: Costs (random, qHVKG, qLogNEHVI) = (92.00, 87.00, 92.00). \n",
      "\n",
      "Hypervolume (random, qHVKG, qLogNEHVI) = (109.50, 109.12, 110.33), time = 6.66."
     ]
    },
    {
     "name": "stderr",
     "output_type": "stream",
     "text": [
      "/Users/saitcakmak/botorch/botorch/acquisition/multi_objective/monte_carlo.py:203: NumericsWarning: qExpectedHypervolumeImprovement has known numerical issues that lead to suboptimal optimization performance. It is strongly recommended to simply replace\n",
      "\n",
      "\t qExpectedHypervolumeImprovement \t --> \t qLogExpectedHypervolumeImprovement \n",
      "\n",
      "instead, which fixes the issues and has the same API. See https://arxiv.org/abs/2310.20708 for details.\n",
      "  legacy_ei_numerics_warning(legacy_name=type(self).__name__)\n",
      "/Users/saitcakmak/botorch/botorch/acquisition/multi_objective/monte_carlo.py:203: NumericsWarning: qExpectedHypervolumeImprovement has known numerical issues that lead to suboptimal optimization performance. It is strongly recommended to simply replace\n",
      "\n",
      "\t qExpectedHypervolumeImprovement \t --> \t qLogExpectedHypervolumeImprovement \n",
      "\n",
      "instead, which fixes the issues and has the same API. See https://arxiv.org/abs/2310.20708 for details.\n",
      "  legacy_ei_numerics_warning(legacy_name=type(self).__name__)\n",
      "/Users/saitcakmak/botorch/botorch/acquisition/multi_objective/monte_carlo.py:203: NumericsWarning: qExpectedHypervolumeImprovement has known numerical issues that lead to suboptimal optimization performance. It is strongly recommended to simply replace\n",
      "\n",
      "\t qExpectedHypervolumeImprovement \t --> \t qLogExpectedHypervolumeImprovement \n",
      "\n",
      "instead, which fixes the issues and has the same API. See https://arxiv.org/abs/2310.20708 for details.\n",
      "  legacy_ei_numerics_warning(legacy_name=type(self).__name__)\n"
     ]
    },
    {
     "name": "stdout",
     "output_type": "stream",
     "text": [
      "\n",
      "Batch 27: Costs (random, qHVKG, qLogNEHVI) = (92.00, 88.00, 92.00). \n",
      "\n",
      "Hypervolume (random, qHVKG, qLogNEHVI) = (109.50, 109.80, 110.33), time = 13.98."
     ]
    },
    {
     "name": "stderr",
     "output_type": "stream",
     "text": [
      "/Users/saitcakmak/botorch/botorch/acquisition/multi_objective/monte_carlo.py:203: NumericsWarning: qExpectedHypervolumeImprovement has known numerical issues that lead to suboptimal optimization performance. It is strongly recommended to simply replace\n",
      "\n",
      "\t qExpectedHypervolumeImprovement \t --> \t qLogExpectedHypervolumeImprovement \n",
      "\n",
      "instead, which fixes the issues and has the same API. See https://arxiv.org/abs/2310.20708 for details.\n",
      "  legacy_ei_numerics_warning(legacy_name=type(self).__name__)\n",
      "/Users/saitcakmak/botorch/botorch/acquisition/multi_objective/monte_carlo.py:203: NumericsWarning: qExpectedHypervolumeImprovement has known numerical issues that lead to suboptimal optimization performance. It is strongly recommended to simply replace\n",
      "\n",
      "\t qExpectedHypervolumeImprovement \t --> \t qLogExpectedHypervolumeImprovement \n",
      "\n",
      "instead, which fixes the issues and has the same API. See https://arxiv.org/abs/2310.20708 for details.\n",
      "  legacy_ei_numerics_warning(legacy_name=type(self).__name__)\n",
      "/Users/saitcakmak/botorch/botorch/acquisition/multi_objective/monte_carlo.py:203: NumericsWarning: qExpectedHypervolumeImprovement has known numerical issues that lead to suboptimal optimization performance. It is strongly recommended to simply replace\n",
      "\n",
      "\t qExpectedHypervolumeImprovement \t --> \t qLogExpectedHypervolumeImprovement \n",
      "\n",
      "instead, which fixes the issues and has the same API. See https://arxiv.org/abs/2310.20708 for details.\n",
      "  legacy_ei_numerics_warning(legacy_name=type(self).__name__)\n"
     ]
    },
    {
     "name": "stdout",
     "output_type": "stream",
     "text": [
      "\n",
      "Batch 28: Costs (random, qHVKG, qLogNEHVI) = (92.00, 89.00, 92.00). \n",
      "\n",
      "Hypervolume (random, qHVKG, qLogNEHVI) = (109.50, 112.19, 110.33), time = 6.72."
     ]
    },
    {
     "name": "stderr",
     "output_type": "stream",
     "text": [
      "/Users/saitcakmak/botorch/botorch/acquisition/multi_objective/monte_carlo.py:203: NumericsWarning: qExpectedHypervolumeImprovement has known numerical issues that lead to suboptimal optimization performance. It is strongly recommended to simply replace\n",
      "\n",
      "\t qExpectedHypervolumeImprovement \t --> \t qLogExpectedHypervolumeImprovement \n",
      "\n",
      "instead, which fixes the issues and has the same API. See https://arxiv.org/abs/2310.20708 for details.\n",
      "  legacy_ei_numerics_warning(legacy_name=type(self).__name__)\n",
      "/Users/saitcakmak/botorch/botorch/acquisition/multi_objective/monte_carlo.py:203: NumericsWarning: qExpectedHypervolumeImprovement has known numerical issues that lead to suboptimal optimization performance. It is strongly recommended to simply replace\n",
      "\n",
      "\t qExpectedHypervolumeImprovement \t --> \t qLogExpectedHypervolumeImprovement \n",
      "\n",
      "instead, which fixes the issues and has the same API. See https://arxiv.org/abs/2310.20708 for details.\n",
      "  legacy_ei_numerics_warning(legacy_name=type(self).__name__)\n",
      "/Users/saitcakmak/botorch/botorch/acquisition/multi_objective/monte_carlo.py:203: NumericsWarning: qExpectedHypervolumeImprovement has known numerical issues that lead to suboptimal optimization performance. It is strongly recommended to simply replace\n",
      "\n",
      "\t qExpectedHypervolumeImprovement \t --> \t qLogExpectedHypervolumeImprovement \n",
      "\n",
      "instead, which fixes the issues and has the same API. See https://arxiv.org/abs/2310.20708 for details.\n",
      "  legacy_ei_numerics_warning(legacy_name=type(self).__name__)\n"
     ]
    },
    {
     "name": "stdout",
     "output_type": "stream",
     "text": [
      "\n",
      "Batch 29: Costs (random, qHVKG, qLogNEHVI) = (92.00, 90.00, 92.00). \n",
      "\n",
      "Hypervolume (random, qHVKG, qLogNEHVI) = (109.50, 109.22, 110.33), time = 6.99."
     ]
    }
   ],
   "source": [
    "import time\n",
    "import warnings\n",
    "\n",
    "from botorch import fit_gpytorch_mll\n",
    "from botorch.exceptions import BadInitialCandidatesWarning\n",
    "from botorch.sampling.normal import SobolQMCNormalSampler\n",
    "\n",
    "\n",
    "warnings.filterwarnings(\"ignore\", category=BadInitialCandidatesWarning)\n",
    "warnings.filterwarnings(\"ignore\", category=RuntimeWarning)\n",
    "\n",
    "MC_SAMPLES = 128 if not SMOKE_TEST else 16\n",
    "COST_BUDGET = 90 if not SMOKE_TEST else 54\n",
    "torch.manual_seed(0)\n",
    "verbose = True\n",
    "N_INIT = 2 * problem.dim + 1\n",
    "\n",
    "total_cost = {\"hvkg\": 0.0, \"qlognehvi\": 0.0, \"random\": 0.0}\n",
    "\n",
    "\n",
    "# call helper functions to generate initial training data and initialize model\n",
    "train_x_hvkg, train_obj_hvkg = generate_initial_data(n=N_INIT)\n",
    "train_obj_hvkg_list = list(train_obj_hvkg.split(1, dim=-1))\n",
    "train_x_hvkg_list = [train_x_hvkg] * len(train_obj_hvkg_list)\n",
    "mll_hvkg, model_hvkg = initialize_model(train_x_hvkg_list, train_obj_hvkg_list)\n",
    "train_obj_random_list = train_obj_hvkg_list\n",
    "train_x_random_list = train_x_hvkg_list\n",
    "train_x_qlognehvi_list, train_obj_qlognehvi_list = (\n",
    "    train_x_hvkg_list,\n",
    "    train_obj_hvkg_list,\n",
    ")\n",
    "cost_hvkg = cost_model(train_x_hvkg).sum(dim=-1)\n",
    "total_cost[\"hvkg\"] += cost_hvkg.sum().item()\n",
    "cost_qlognehvi = cost_hvkg\n",
    "cost_random = cost_hvkg\n",
    "total_cost[\"qlognehvi\"] = total_cost[\"hvkg\"]\n",
    "total_cost[\"random\"] = total_cost[\"hvkg\"]\n",
    "mll_qlognehvi, model_qlognehvi = initialize_model(train_x_qlognehvi_list, train_obj_qlognehvi_list)\n",
    "mll_random, model_random = initialize_model(train_x_random_list, train_obj_random_list)\n",
    "# fit the models\n",
    "fit_gpytorch_mll(mll_hvkg)\n",
    "fit_gpytorch_mll(mll_qlognehvi)\n",
    "fit_gpytorch_mll(mll_random)\n",
    "# compute hypervolume\n",
    "hv = get_model_identified_hv_maximizing_set(model=model_qlognehvi)\n",
    "hvs_hvkg, hvs_qehvi, hvs_qlognehvi, hvs_random = [hv], [hv], [hv], [hv]\n",
    "if verbose:\n",
    "    print(\n",
    "        f\"\\nInitial: Hypervolume (random, qHVKG, qLogNEHVI) = \"\n",
    "        f\"({hvs_random[-1]:>4.2f}, {hvs_hvkg[-1]:>4.2f}, {hvs_qlognehvi[-1]:>4.2f}).\",\n",
    "        end=\"\",\n",
    "    )\n",
    "# run N_BATCH rounds of BayesOpt after the initial random batch\n",
    "iteration = 0\n",
    "active_algos = {k for k, v in total_cost.items() if v < COST_BUDGET}\n",
    "while any(v < COST_BUDGET for v in total_cost.values()):\n",
    "\n",
    "    t0 = time.monotonic()\n",
    "    if \"hvkg\" in active_algos:\n",
    "        # generate candidates\n",
    "        (\n",
    "            new_x_hvkg,\n",
    "            new_obj_hvkg,\n",
    "            eval_objective_indices_hvkg,\n",
    "        ) = optimize_HVKG_and_get_obs_decoupled(\n",
    "            model_hvkg,\n",
    "        )\n",
    "        # update training points\n",
    "        for i in eval_objective_indices_hvkg:\n",
    "            train_x_hvkg_list[i] = torch.cat([train_x_hvkg_list[i], new_x_hvkg])\n",
    "            train_obj_hvkg_list[i] = torch.cat(\n",
    "                [train_obj_hvkg_list[i], new_obj_hvkg], dim=0\n",
    "            )\n",
    "        # update costs\n",
    "        all_outcome_cost = cost_model(new_x_hvkg)\n",
    "        new_cost_hvkg = all_outcome_cost[..., eval_objective_indices_hvkg].sum(dim=-1)\n",
    "        cost_hvkg = torch.cat([cost_hvkg, new_cost_hvkg], dim=0)\n",
    "        total_cost[\"hvkg\"] += new_cost_hvkg.sum().item()\n",
    "        # fit models\n",
    "        mll_hvkg, model_hvkg = initialize_model(train_x_hvkg_list, train_obj_hvkg_list)\n",
    "        fit_gpytorch_mll(mll_hvkg)\n",
    "\n",
    "    if \"qlognehvi\" in active_algos:\n",
    "        qlognehvi_sampler = SobolQMCNormalSampler(sample_shape=torch.Size([MC_SAMPLES]))\n",
    "        # generate candidates\n",
    "        new_x_qlognehvi, new_obj_qlognehvi = optimize_qlognehvi_and_get_observation(\n",
    "            model_qlognehvi, train_x_qlognehvi_list[0], qlognehvi_sampler\n",
    "        )\n",
    "        # update training points\n",
    "        for i in objective_indices:\n",
    "            train_x_qlognehvi_list[i] = torch.cat([train_x_qlognehvi_list[i], new_x_qlognehvi])\n",
    "            train_obj_qlognehvi_list[i] = torch.cat(\n",
    "                [train_obj_qlognehvi_list[i], new_obj_qlognehvi[..., i : i + 1]]\n",
    "            )\n",
    "        # update costs\n",
    "        new_cost_qlognehvi = cost_model(new_x_qlognehvi).sum(dim=-1)\n",
    "        cost_qlognehvi = torch.cat([cost_qlognehvi, new_cost_qlognehvi], dim=0)\n",
    "        total_cost[\"qlognehvi\"] += new_cost_qlognehvi.sum().item()\n",
    "        # fit models\n",
    "        mll_qlognehvi, model_qlognehvi = initialize_model(\n",
    "            train_x_qlognehvi_list, train_obj_qlognehvi_list\n",
    "        )\n",
    "        fit_gpytorch_mll(mll_qlognehvi)\n",
    "    if \"random\" in active_algos:\n",
    "        # generate candidates\n",
    "        new_x_random, new_obj_random = generate_initial_data(n=BATCH_SIZE)\n",
    "        # update training points\n",
    "        for i in objective_indices:\n",
    "            train_x_random_list[i] = torch.cat([train_x_random_list[i], new_x_random])\n",
    "            train_obj_random_list[i] = torch.cat(\n",
    "                [train_obj_random_list[i], new_obj_random[..., i : i + 1]]\n",
    "            )\n",
    "        # update costs\n",
    "        new_cost_random = cost_model(new_x_random).sum(dim=-1)\n",
    "        cost_random = torch.cat([cost_random, new_cost_random], dim=0)\n",
    "        total_cost[\"random\"] += new_cost_random.sum().item()\n",
    "        # fit models\n",
    "        mll_random, model_random = initialize_model(\n",
    "            train_x_random_list, train_obj_random_list\n",
    "        )\n",
    "        fit_gpytorch_mll(mll_random)\n",
    "\n",
    "    # compute hypervolume\n",
    "    for label, model, hv_list in zip(\n",
    "        [\"hvkg\", \"qlognehvi\", \"random\"],\n",
    "        [model_hvkg, model_qlognehvi, model_random],\n",
    "        [hvs_hvkg, hvs_qlognehvi, hvs_random],\n",
    "    ):\n",
    "        if label in active_algos:\n",
    "            hv = get_model_identified_hv_maximizing_set(model=model)\n",
    "            hv_list.append(hv)\n",
    "        else:\n",
    "            # no update performed\n",
    "            hv_list.append(hv_list[-1])\n",
    "\n",
    "    t1 = time.monotonic()\n",
    "    if verbose:\n",
    "        print(\n",
    "            f\"\\nBatch {iteration:>2}: Costs (random, qHVKG, qLogNEHVI) = \"\n",
    "            f\"({total_cost['random']:>4.2f}, {total_cost['hvkg']:>4.2f}, {total_cost['qlognehvi']:>4.2f}). \"\n",
    "        )\n",
    "        print(\n",
    "            f\"\\nHypervolume (random, qHVKG, qLogNEHVI) = \"\n",
    "            f\"({hvs_random[-1]:>4.2f}, {hvs_hvkg[-1]:>4.2f}, {hvs_qlognehvi[-1]:>4.2f}), \"\n",
    "            f\"time = {t1-t0:>4.2f}.\",\n",
    "            end=\"\",\n",
    "        )\n",
    "    else:\n",
    "        print(\".\", end=\"\")\n",
    "    iteration += 1\n",
    "    active_algos = {k for k, v in total_cost.items() if v < COST_BUDGET}"
   ]
  },
  {
   "cell_type": "markdown",
   "metadata": {
    "originalKey": "72232578-0908-4292-aca4-d52197890dd6",
    "outputsInitialized": false,
    "showInput": false
   },
   "source": [
    "#### Plot the cost vs inference regret\n",
    "The plot below shows the a common metric of multi-objective optimization performance, the log hypervolume difference: the log difference between the hypervolume of the true pareto front and the hypervolume of the inferred pareto set of designs identified by each algorithm. The log hypervolume difference is plotted cover cost. This is also known as inference regret.\n",
    "\n",
    "The plot shows that HVKG identifies the Pareto optimal designs much faster than $q$LogNEHVI, and Sobol."
   ]
  },
  {
   "cell_type": "code",
   "execution_count": 8,
   "metadata": {
    "collapsed": false,
    "customOutput": null,
    "executionStartTime": 1699632303324,
    "executionStopTime": 1699632303816,
    "jupyter": {
     "outputs_hidden": false
    },
    "originalKey": "0187c932-1a45-45d2-82f9-9f96853eff1c",
    "output": {
     "id": "1029368728310675"
    },
    "outputsInitialized": true,
    "requestMsgId": "ad28407c-5b74-4ace-8a6c-dd347fd5571d"
   },
   "outputs": [
    {
     "ename": "ModuleNotFoundError",
     "evalue": "No module named 'matplotlib'",
     "output_type": "error",
     "traceback": [
      "\u001b[0;31m---------------------------------------------------------------------------\u001b[0m",
      "\u001b[0;31mModuleNotFoundError\u001b[0m                       Traceback (most recent call last)",
      "Cell \u001b[0;32mIn[8], line 1\u001b[0m\n\u001b[0;32m----> 1\u001b[0m \u001b[38;5;28;01mfrom\u001b[39;00m \u001b[38;5;21;01mmatplotlib\u001b[39;00m \u001b[38;5;28;01mimport\u001b[39;00m pyplot \u001b[38;5;28;01mas\u001b[39;00m plt\n\u001b[1;32m      3\u001b[0m get_ipython()\u001b[38;5;241m.\u001b[39mrun_line_magic(\u001b[38;5;124m'\u001b[39m\u001b[38;5;124mmatplotlib\u001b[39m\u001b[38;5;124m'\u001b[39m, \u001b[38;5;124m'\u001b[39m\u001b[38;5;124minline\u001b[39m\u001b[38;5;124m'\u001b[39m)\n\u001b[1;32m      6\u001b[0m log_hv_difference_hvkg \u001b[38;5;241m=\u001b[39m np\u001b[38;5;241m.\u001b[39mlog10(problem\u001b[38;5;241m.\u001b[39mmax_hv \u001b[38;5;241m-\u001b[39m np\u001b[38;5;241m.\u001b[39masarray(hvs_hvkg))\n",
      "\u001b[0;31mModuleNotFoundError\u001b[0m: No module named 'matplotlib'"
     ]
    }
   ],
   "source": [
    "from matplotlib import pyplot as plt\n",
    "\n",
    "%matplotlib inline\n",
    "\n",
    "\n",
    "log_hv_difference_hvkg = np.log10(problem.max_hv - np.asarray(hvs_hvkg))\n",
    "log_hv_difference_qlognehvi = np.log10(problem.max_hv - np.asarray(hvs_qlognehvi))\n",
    "log_hv_difference_rnd = np.log10(problem.max_hv - np.asarray(hvs_random))\n",
    "\n",
    "fig, ax = plt.subplots(1, 1, figsize=(8, 6))\n",
    "running_cost_random = np.cumsum(cost_random.cpu()[N_INIT-1:])\n",
    "running_cost_qlognehvi = np.cumsum(cost_qlognehvi.cpu()[N_INIT-1:])\n",
    "running_cost_hvkg = np.cumsum(cost_hvkg.cpu()[N_INIT-1:])\n",
    "ax.errorbar(\n",
    "    running_cost_random,\n",
    "    log_hv_difference_rnd[: len(running_cost_random)],\n",
    "    label=\"Sobol\",\n",
    "    linewidth=1.5,\n",
    "    ls=\"--\",\n",
    "    marker=\"s\",\n",
    ")\n",
    "ax.errorbar(\n",
    "    running_cost_qlognehvi,\n",
    "    log_hv_difference_qlognehvi[: len(running_cost_qlognehvi)],\n",
    "    label=\"qLogNEHVI\",\n",
    "    linewidth=1.5,\n",
    "    ls=\"--\",\n",
    "    marker=\"o\"\n",
    ")\n",
    "ax.errorbar(\n",
    "    running_cost_hvkg,\n",
    "    log_hv_difference_hvkg[: len(running_cost_hvkg)],\n",
    "    label=\"HVKG\",\n",
    "    linewidth=1.5,\n",
    "    ls=\"--\",\n",
    "    marker=\"d\"\n",
    ")\n",
    "ax.set(\n",
    "    xlabel=\"Cost\",\n",
    "    ylabel=\"Log Hypervolume Difference\",\n",
    ")\n",
    "ax.legend(loc=\"upper right\")"
   ]
  },
  {
   "cell_type": "code",
   "execution_count": null,
   "metadata": {
    "customInput": null,
    "originalKey": "34f90193-bda7-4b4a-9d86-ad87ff778088",
    "showInput": true
   },
   "outputs": [],
   "source": []
  }
 ],
 "metadata": {
  "kernelspec": {
   "display_name": "Python 3 (ipykernel)",
   "language": "python",
   "name": "python3"
  },
  "language_info": {
   "codemirror_mode": {
    "name": "ipython",
    "version": 3
   },
   "file_extension": ".py",
   "mimetype": "text/x-python",
   "name": "python",
   "nbconvert_exporter": "python",
   "pygments_lexer": "ipython3",
   "version": "3.10.14"
  }
 },
 "nbformat": 4,
 "nbformat_minor": 4
}
